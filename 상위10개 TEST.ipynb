{
 "cells": [
  {
   "cell_type": "code",
   "execution_count": 19,
   "id": "2a8f3e69-c746-4723-b7de-2d65a6ff7dca",
   "metadata": {
    "tags": []
   },
   "outputs": [
    {
     "name": "stdout",
     "output_type": "stream",
     "text": [
      "AI       577\n",
      "출시       397\n",
      "코딩       339\n",
      "클라우드     333\n",
      "개발       331\n",
      "서비스      327\n",
      "공개       319\n",
      "언어       289\n",
      "솔루션      285\n",
      "프로그래밍    279\n",
      "기반       263\n",
      "플랫폼      255\n",
      "트렌드      249\n",
      "인기       240\n",
      "체결       233\n",
      "보안       224\n",
      "기술       223\n",
      "지수       220\n",
      "티오베      220\n",
      "PyPL     219\n",
      "랭킹       219\n",
      "발표       215\n",
      "데이터      212\n",
      "지원       206\n",
      "맞손       205\n",
      "시장       194\n",
      "위한       184\n",
      "사업       183\n",
      "기업       182\n",
      "메타버스     179\n",
      "Name: count, dtype: int64\n"
     ]
    }
   ],
   "source": [
    "import pandas as pd\n",
    "import re\n",
    "\n",
    "csv_file = 'Project_data/total_TEST.csv'\n",
    "\n",
    "df = pd.read_csv(csv_file)\n",
    "\n",
    "keywords = []\n",
    "for title in df['news_title']:\n",
    "    words = re.findall(r'\\b\\w{2,5}\\b', title)\n",
    "    keywords.extend(words)\n",
    "\n",
    "# 키워드 빈도수 계산\n",
    "keyword_counts = pd.Series(keywords).value_counts()\n",
    "top_keywords = keyword_counts.head(30)\n",
    "\n",
    "print(top_keywords)\n"
   ]
  },
  {
   "cell_type": "code",
   "execution_count": 5,
   "id": "7e7cf2be-6e51-489a-b811-0c7f59944b01",
   "metadata": {
    "tags": []
   },
   "outputs": [
    {
     "name": "stdout",
     "output_type": "stream",
     "text": [
      "3703            KT 게이츠재단 지원 ‘감염병 대응 연구’ 마무리…관련 데이터 일반에 공개\n",
      "3704                              업스테이지 삼성생명에 금융AI 솔루션 공급\n",
      "3705     소더비 온체인 P2P 중고 NFT 마켓플레이스 출시...이더리움·폴리곤 토큰 결제 가능\n",
      "3706    [코딩 트렌드] PyPI 5월 프로그래밍 언어 순위 발표...파이썬 1위 外 인기 ...\n",
      "3707           비보 '120W 고속충전' 가능한 스마트폰 iQOO 네오 8 프로 출시 전망\n",
      "                              ...                        \n",
      "6358                     KT, 롯데온 AI ‘리스포’ 적용…유통 물류 혁신 가속화\n",
      "6360                              한국레노버, 8세대 요가 신제품 3종 출시\n",
      "6361                 中 빅테크, ‘저가’ 클라우드 경쟁 본격화하나…AI 산업 밑그림?\n",
      "6365                   '슈퍼 메기' AI로 무장한 MS, 클라우드 시장 판도 바꿀까\n",
      "6366                      에이서, ‘컴퓨텍스 2023’서 신제품·신기술 대거 공개\n",
      "Name: news_title, Length: 179, dtype: object\n"
     ]
    }
   ],
   "source": [
    "import pandas as pd\n",
    "import re\n",
    "\n",
    "# CSV 파일 경로\n",
    "csv_file = 'Project_data/total_TEST.csv'\n",
    "\n",
    "# CSV 파일을 DataFrame으로 읽기\n",
    "df = pd.read_csv(csv_file)\n",
    "\n",
    "# 필터링할 키워드 리스트\n",
    "keywords = ['AI', '출시', '코딩', '클라우드', '개발', '서비스', '공개', '언어', '솔루션', '프로그래밍']\n",
    "\n",
    "# 'news_date'통일\n",
    "df['news_date'] = df['news_date'].str.replace(r'\\.', '-', regex=True)\n",
    "\n",
    "# 'news_date'를 datetime 형식으로 변환\n",
    "df['news_date'] = pd.to_datetime(df['news_date'], errors='coerce')\n",
    "\n",
    "# 2023년 5월 1일부터 31일 사이인 데이터 필터링\n",
    "filtered_data = df[(df['news_date'] >= '2023-05-01') & (df['news_date'] <= '2023-05-31')]\n",
    "\n",
    "# 특정 키워드가 포함된 'news_title' 데이터 추출\n",
    "filtered_data = filtered_data[filtered_data['news_title'].str.contains('|'.join(keywords))]\n",
    "\n",
    "# 결과 출력\n",
    "print(filtered_data['news_title'])\n"
   ]
  },
  {
   "cell_type": "code",
   "execution_count": 11,
   "id": "53094699-c7ad-432d-9bf2-9115aa21fe92",
   "metadata": {
    "tags": []
   },
   "outputs": [
    {
     "name": "stdin",
     "output_type": "stream",
     "text": [
      "키워드를 입력하세요:  AI\n"
     ]
    },
    {
     "name": "stdout",
     "output_type": "stream",
     "text": [
      "3704                              업스테이지 삼성생명에 금융AI 솔루션 공급\n",
      "3713                       이스트소프트 MS와 맞손…AI 휴먼 신사업 글로벌 확장\n",
      "3714                        주행 안정성 강화…KT AI 서비스로봇 2종 업데이트\n",
      "3725                    KT AI서비스-유선전화 패키지 상품 ‘AI전화’ 신규 출시\n",
      "3729     챗GPT 제작자 \"AI 인류 파멸 초래할 수도\"...인간 인지 능력 초월 가능성도 언급\n",
      "3738                     엔비디아 고급 AI 지원 ‘DGX H100 시스템’ 상용화\n",
      "3747                        뉴렐릭 생성AI 옵저버빌리티 어시스턴트 ‘그록’ 공개\n",
      "3762                  KT AI 교육 플랫폼 ‘AI코디니’에 AI 로봇 교구 업데이트\n",
      "3766    기업용 생산성 플랫폼 슬랙 대화형 AI 서비스 ‘Slack GPT’ 포함 신규 기능 발표\n",
      "3771            SKT 에쓰푸드와 푸드테크 협력 ‘맞손’…식품 공급망 전반에 AI기술 접목\n",
      "Name: news_title, dtype: object\n"
     ]
    }
   ],
   "source": [
    "import pandas as pd\n",
    "import re\n",
    "\n",
    "# CSV 파일 경로\n",
    "csv_file = 'Project_data/total_TEST.csv'\n",
    "\n",
    "# CSV 파일을 DataFrame으로 읽기\n",
    "df = pd.read_csv(csv_file)\n",
    "\n",
    "# 사용자로부터 키워드 입력 받기\n",
    "keyword = input(\"키워드를 입력하세요: \")\n",
    "\n",
    "# news_date 형식 통일\n",
    "df['news_date'] = df['news_date'].str.replace(r'\\.', '-', regex=True)\n",
    "\n",
    "# 'news_date'를 datetime 형식으로 변환\n",
    "df['news_date'] = pd.to_datetime(df['news_date'], errors='coerce')\n",
    "\n",
    "# 2023년 5월 1일부터 31일 사이인 데이터 필터링\n",
    "filtered_data = df[(df['news_date'] >= '2023-05-01') & (df['news_date'] <= '2023-05-31')]\n",
    "\n",
    "# 특정 키워드가 포함된 'news_title' 데이터 추출\n",
    "filtered_data = filtered_data[filtered_data['news_title'].str.contains(keyword, case=False)]\n",
    "\n",
    "# 상위 10개 데이터 출력\n",
    "top_10_data = filtered_data.head(10)\n",
    "print(top_10_data['news_title'])\n"
   ]
  },
  {
   "cell_type": "code",
   "execution_count": null,
   "id": "707c3303-0776-4c55-8cfc-03e246ed439b",
   "metadata": {},
   "outputs": [],
   "source": [
    "# import pandas as pd\n",
    "# import re\n",
    "\n",
    "\n",
    "# csv_file = 'path/to/your/csv/file.csv'\n",
    "# df = pd.read_csv(csv_file)\n",
    "\n",
    "\n",
    "# keyword = input(\"키워드를 입력하세요: \")\n",
    "# df['news_date'] = df['news_date'].str.replace(r'\\.', '-', regex=True)\n",
    "# df['news_date'] = pd.to_datetime(df['news_date'], errors='coerce')\n",
    "# filtered_data = df[(df['news_date'] >= '2023-05-01') & (df['news_date'] <= '2023-05-31')]\n",
    "# filtered_data = filtered_data[filtered_data['news_title'].str.contains(keyword, case=False)]\n",
    "\n",
    "# top_10_data = filtered_data.head(10)\n",
    "\n",
    "# html = top_10_data['news_title'].to_frame().to_html(escape=False)\n",
    "# highlighted_html = html.replace(keyword, '<span style=\"background-color: yellow;\">{}</span>'.format(keyword))\n",
    "\n",
    "# print(highlighted_html)\n"
   ]
  },
  {
   "cell_type": "code",
   "execution_count": 12,
   "id": "8a8a84d1-f65c-4b47-aab5-1167aa2d7339",
   "metadata": {
    "tags": []
   },
   "outputs": [
    {
     "name": "stdin",
     "output_type": "stream",
     "text": [
      "원하는 연도를 입력하세요:  2022\n",
      "원하는 월을 입력하세요:  7\n",
      "원하는 키워드를 입력하세요:  AI\n"
     ]
    },
    {
     "name": "stdout",
     "output_type": "stream",
     "text": [
      "KT·서울시교육청 비대면 학습 멘토링 프로그램에 ‘<span style='font-weight: bold;'>AI</span> 코딩’ 과정 신설\n",
      "K<span style='font-weight: bold;'>AI</span>ST 최신현 교수팀 차세대 멤리스터 기반 인공 뉴런 어레이 개발\n",
      "루닛 의료<span style='font-weight: bold;'>AI</span> 솔루션 군병원·의료기관에 확대 도입\n",
      "과기정통부 초거대 <span style='font-weight: bold;'>AI</span> 활용 시범사업 본격화\n",
      "아마존 코파일럿에 대적할 <span style='font-weight: bold;'>AI</span> 기반 코드 추천 툴 '코드위스퍼러' 출시\n",
      "딥노이드 한국공항공사·씨엔아이와 항공보안 <span style='font-weight: bold;'>AI</span> 엑스레이 국산화 추진\n",
      "Concrete.ai 콘크리트 설계?생산 최적화시키는 인공지능 플랫폼 개발\n",
      "국내 기업 메타버스·스마트팩토리 관련 <span style='font-weight: bold;'>AI</span>에 관심\n",
      "“와인도 감지한다”…K<span style='font-weight: bold;'>AI</span>ST 연구팀 전자코 뉴로모픽 반도체 모듈 개발\n",
      "루닛 태국 범룽랏 병원에 <span style='font-weight: bold;'>AI</span> 영상분석 솔루션 공급 계약\n"
     ]
    }
   ],
   "source": [
    "import csv\n",
    "\n",
    "year = input(\"원하는 연도를 입력하세요: \")\n",
    "month = input(\"원하는 월을 입력하세요: \")\n",
    "keyword = input(\"원하는 키워드를 입력하세요: \")\n",
    "\n",
    "results = []\n",
    "\n",
    "with open('Project_data/total_TEST.csv', 'r', encoding='utf-8') as file:\n",
    "    reader = csv.DictReader(file)\n",
    "    for row in reader:\n",
    "        news_date = row['news_date']\n",
    "        news_title = row['news_title']\n",
    "        if year in news_date and month in news_date and keyword.lower() in news_title.lower():\n",
    "            results.append(news_title)\n",
    "\n",
    "# 최대 10개 결과 출력\n",
    "for i in range(min(10, len(results))):\n",
    "    highlighted_title = results[i].replace(keyword, f\"<span style='font-weight: bold;'>{keyword}</span>\")\n",
    "    print(highlighted_title)"
   ]
  },
  {
   "cell_type": "code",
   "execution_count": 13,
   "id": "fd034707-7261-4fe3-bf91-8d83acd623d6",
   "metadata": {
    "tags": []
   },
   "outputs": [
    {
     "name": "stdin",
     "output_type": "stream",
     "text": [
      "원하는 연도를 입력하세요:  2023\n",
      "원하는 월을 입력하세요:  2\n",
      "원하는 키워드를 입력하세요:  AI\n"
     ]
    },
    {
     "data": {
      "text/html": [
       "<table><tr><td>2023.01.02</td><td>2023년 SW산업계 주요 이슈는 ‘초거대<b>AI</b>’·‘SaaS’·‘마이데이터’</td></tr><tr><td>2023.01.03</td><td>싱가포르 스타트업 자동 숏폼 영상 제작 가능한 생성형 <b>AI</b> 기술 공개…단어 하나만으로도 ‘틱톡 콘텐츠’ 완성</td></tr><tr><td>2023.01.03</td><td>딥노이드 ‘CES 2023’ 참전…의료·산업<b>AI</b> 솔루션 대거 공개</td></tr><tr><td>2023.01.03</td><td>이스트소프트 프리다 칼로 작품에 <b>AI</b> 버추얼 휴먼 기술 결합</td></tr><tr><td>2023.01.04</td><td>中 테크 기업 서양 업계 견제할 생성형 <b>AI</b> 개발에 열 올린다</td></tr><tr><td>2023.01.05</td><td>슈나이더 광주과학기술원(GIST) HPC-<b>AI</b> 인프라에 솔루션 공급</td></tr><tr><td>2023.01.05</td><td>네이버 글로벌 <b>AI</b>학회에서 연 100회 논문 발표</td></tr><tr><td>2023.01.06</td><td><b>AI</b> 기반 코딩 프로그램 오픈소스 라이선스 위반했다?</td></tr><tr><td>2023.01.07</td><td>이노그리드·다비오 클라우드·<b>AI</b> 기반 공간정보 빅데이터 결합</td></tr><tr><td>2023.01.09</td><td>이스트소프트 '2023년 <b>AI</b> 바우처 지원사업' 공급기업 선정</td></tr></table>"
      ],
      "text/plain": [
       "<IPython.core.display.HTML object>"
      ]
     },
     "execution_count": 13,
     "metadata": {},
     "output_type": "execute_result"
    }
   ],
   "source": [
    "import csv\n",
    "from IPython.display import HTML\n",
    "\n",
    "year = input(\"원하는 연도를 입력하세요: \")\n",
    "month = input(\"원하는 월을 입력하세요: \")\n",
    "keyword = input(\"원하는 키워드를 입력하세요: \")\n",
    "\n",
    "results = []\n",
    "\n",
    "with open('Project_data/total_TEST.csv', 'r', encoding='utf-8') as file:\n",
    "    reader = csv.DictReader(file)\n",
    "    for row in reader:\n",
    "        news_date = row['news_date']\n",
    "        news_title = row['news_title']\n",
    "        if year in news_date and month in news_date and keyword.lower() in news_title.lower():\n",
    "            results.append((news_date, news_title))\n",
    "\n",
    "table_content = \"<table>\"\n",
    "for i in range(min(10, len(results))):\n",
    "    highlighted_title = results[i][1].replace(keyword, f\"<b>{keyword}</b>\")\n",
    "    table_content += f\"<tr><td>{results[i][0]}</td><td>{highlighted_title}</td></tr>\"\n",
    "table_content += \"</table>\"\n",
    "\n",
    "HTML(table_content)"
   ]
  },
  {
   "cell_type": "code",
   "execution_count": 17,
   "id": "ca49cb7b-a93d-478e-ad58-ecac890c780f",
   "metadata": {
    "tags": []
   },
   "outputs": [
    {
     "name": "stdin",
     "output_type": "stream",
     "text": [
      "원하는 연도를 입력하세요:  2023\n",
      "원하는 월을 입력하세요:  5\n",
      "원하는 키워드를 입력하세요:  클라우드\n"
     ]
    },
    {
     "name": "stdout",
     "output_type": "stream",
     "text": [
      "네이버클라우드 기업용 브라우저 ‘웨일 엔터프라이즈’ 베타 공개\n",
      "NHN클라우드 5기 복권수탁사업 수주\n",
      "한국MS SK에코플랜트에 클라우드 기반 ‘팀즈폰’ 공급\n",
      "클라우드 전반 데이터 액세스 간소화…오라클 “ADW로 데이터 관리 혁신”\n",
      "인텔·SAP 클라우드 역량 확대 ‘맞손’…성능·효율성 개선 협업\n",
      "KT클라우드 이머전4와 액침냉각 시스템 적용 확대 ‘맞손’\n",
      "주니퍼 미스트 접근보장 서비스 발표…“클라우드 연결 보안성 강화에 초점”\n",
      "“클라우드 벤더 선택 1순위는 보안”\n",
      "네이버클라우드 호반건설과 국내 첫 건설현장 이음5G 실증\n",
      "AWS 야놀자에 클라우드 인프라 공급…글로벌 서비스 확장 지원\n",
      "컨테이너 보안 미비 손실로…“클라우드네이티브 보안에 투자 늘려야”\n",
      "나무기술, NH농협은행 AI 은행원 서비스에 ‘칵테일 클라우드’ 공급\n",
      "퀘스트소프트웨어코리아, 클라우드백업 ‘AD 보안’ 강조…“디지털 현대화 기여할 것”\n",
      "틸론-소프트캠프, 클라우드 보안 사업 위한 MOU 체결\n",
      "NHN클라우드, 복권수탁사업자 선정…프라이빗 클라우드 서비스 적용\n",
      "베스핀글로벌, ‘구글 클라우드 솔루션 데이 2023’ 플래티넘 참가\n",
      "구글 클라우드, SAP와 기업 고객 위한 개방형 데이터·AI 파트너십 발표\n",
      "한국전파진흥협회, 클라우드컴퓨팅 인력 위한 ‘AWS 클라우드 스쿨’ 개소\n",
      "이노그리드, 강원도 클라우드 전환 컨설팅 사업 단독 수주\n",
      "구글 클라우드, 전 세계 카카오웹툰 서비스 환경 구축 지원\n",
      "오라클 클라우드, ‘프라다’에 클라우드 기반 리테일 솔루션 구축\n",
      "알리바바 클라우드, “클라우드 벤더 선택 시 비용보다 보안성 중요시”\n",
      "이노그리드, 공공부문 디지털 혁신 위한 클라우드 컨설팅 사업 수주\n",
      "中 빅테크, ‘저가’ 클라우드 경쟁 본격화하나…AI 산업 밑그림?\n",
      "'슈퍼 메기' AI로 무장한 MS, 클라우드 시장 판도 바꿀까\n"
     ]
    }
   ],
   "source": [
    "import pandas as pd\n",
    "import re\n",
    "\n",
    "csv_file = 'Project_data/total_TEST.csv'\n",
    "\n",
    "df = pd.read_csv(csv_file)\n",
    "\n",
    "year = input(\"원하는 연도를 입력하세요: \")\n",
    "month = input(\"원하는 월을 입력하세요: \")\n",
    "keyword = input(\"원하는 키워드를 입력하세요: \")\n",
    "\n",
    "df['news_date'] = df['news_date'].str.replace(r'\\.', '-', regex=True)\n",
    "df['news_date'] = pd.to_datetime(df['news_date'], errors='coerce')\n",
    "filtered_data = df[(df['news_date'].dt.year == int(year)) & (df['news_date'].dt.month == int(month))]\n",
    "filtered_data = filtered_data[filtered_data['news_title'].str.contains(keyword, case=False)]\n",
    "\n",
    "\n",
    "num_results = min(max(1, len(filtered_data)), 30)\n",
    "for i in range(num_results):\n",
    "    print(filtered_data.iloc[i]['news_title'])\n"
   ]
  },
  {
   "cell_type": "code",
   "execution_count": null,
   "id": "e8cdd031-55d5-4e04-a3fb-e022f85914f0",
   "metadata": {},
   "outputs": [],
   "source": []
  }
 ],
 "metadata": {
  "kernelspec": {
   "display_name": "lc_pjt_venv",
   "language": "python",
   "name": "test"
  },
  "language_info": {
   "codemirror_mode": {
    "name": "ipython",
    "version": 3
   },
   "file_extension": ".py",
   "mimetype": "text/x-python",
   "name": "python",
   "nbconvert_exporter": "python",
   "pygments_lexer": "ipython3",
   "version": "3.9.13"
  }
 },
 "nbformat": 4,
 "nbformat_minor": 5
}
