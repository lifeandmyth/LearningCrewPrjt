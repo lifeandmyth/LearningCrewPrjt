{
 "cells": [
  {
   "cell_type": "markdown",
   "metadata": {},
   "source": [
    "keyword_extraction_using_proportion_ratio.ipynb 파일에서 만들어둔 sparse matrix인 x와 {word:index}인 dictionary type word2index, list of str type인 index2word를 pickle로부터 로딩했습니다. "
   ]
  },
  {
   "cell_type": "code",
   "execution_count": 1,
   "metadata": {
    "collapsed": true
   },
   "outputs": [],
   "source": [
    "import pickle\n",
    "\n",
    "with open('params', 'rb') as f:\n",
    "    params = pickle.load(f)\n",
    "    x = params['x']\n",
    "    index2word = params['index2word']\n",
    "    word2index = params['word2index']"
   ]
  },
  {
   "cell_type": "code",
   "execution_count": 2,
   "metadata": {},
   "outputs": [],
   "source": [
    "import sys\n",
    "sys.path.insert(0, '../')\n",
    "import soykeyword"
   ]
  },
  {
   "cell_type": "markdown",
   "metadata": {},
   "source": [
    "Lasso Logistic regression을 이용한 키워드 추출 방법은 proportion ratio 를 이용하는 방법과 그 개념은 비슷합니다. \n",
    "\n",
    "Proportion ratio 방법에서 score가 1.0에 가깝다는 의미는 reference documents 보다 target documents에서 등장하는 비율이 높다는 의미이고, 이는 target / reference documents를 구분하는 질좋은 features라는 의미이기도 합니다. \n",
    "\n",
    "LassoKeywordExtractor는 Lasso Logistic regression을 이용하여 이런 features를 직접적으로 선택하는 것입니다. 이를 위해 scikit-learn의 Logistic Regression을 이용하였습니다. 이 때 parameters로 입력해야 하는 C는 costs라는 list of number로 입력됩니다. 키워드의 후보들은 모두 min_tf, min_df로 필터링이 됩니다. \n",
    "\n",
    "LassoKeywordExtractor는 텍스트 형식의 데이터는 지원하지 않습니다. Sparse matrix 형식에만 지원하며, train 단계에서 index2word를 입력하지 않으면 <키워드 아이디, 빈도수, Logistic regression coefficient> 형식의 namedtuple인 KeywordScore로 출력됩니다. \n",
    "\n",
    "minimum_number_of_keywords는 L1 regularization cost를 조금씩 낮춰가면서 선택되는 최소한의 키워드의 개수가 min_num_of_keywords 이상이 되도록 하는 최초의 keywords를 return하도록 하는 parameter입니다. "
   ]
  },
  {
   "cell_type": "code",
   "execution_count": 3,
   "metadata": {},
   "outputs": [
    {
     "name": "stdout",
     "output_type": "stream",
     "text": [
      "28 keywords extracted from 0.100 cost\n",
      "63 keywords extracted from 1.000 cost\n"
     ]
    },
    {
     "data": {
      "text/plain": [
       "[KeywordScore(word=2308, frequency=86, coefficient=3.813830520460762),\n",
       " KeywordScore(word=4701, frequency=40, coefficient=3.261099262257536),\n",
       " KeywordScore(word=4441, frequency=90, coefficient=2.4460475349356567),\n",
       " KeywordScore(word=5880, frequency=221, coefficient=1.7646803661463286),\n",
       " KeywordScore(word=8215, frequency=105, coefficient=1.4951132668336256),\n",
       " KeywordScore(word=4343, frequency=46, coefficient=1.4216073794436455),\n",
       " KeywordScore(word=2913, frequency=119, coefficient=1.3429830247109698),\n",
       " KeywordScore(word=3527, frequency=195, coefficient=1.1859982891739986),\n",
       " KeywordScore(word=3261, frequency=216, coefficient=1.1667923837290954),\n",
       " KeywordScore(word=6208, frequency=77, coefficient=1.1148894329818522)]"
      ]
     },
     "execution_count": 3,
     "metadata": {},
     "output_type": "execute_result"
    }
   ],
   "source": [
    "from soykeyword.lasso import LassoKeywordExtractor\n",
    "\n",
    "lassobased_extractor = LassoKeywordExtractor(\n",
    "    costs=[500, 200, 100, 50, 10, 5, 1, 0.1],\n",
    "    min_tf=20, \n",
    "    min_df=10\n",
    ")\n",
    "\n",
    "lassobased_extractor.train(x)\n",
    "keywords = lassobased_extractor.extract_from_word(\n",
    "    5537,\n",
    "    min_num_of_keywords=30\n",
    ")\n",
    "\n",
    "keywords[:10]"
   ]
  },
  {
   "cell_type": "markdown",
   "metadata": {},
   "source": [
    "index2word를 x와 함께 train()에 넣는다면 키워드 추출 결과는 모두 word index가 str로 바뀌어서 입력됩니다. 만약 word index가 index2word의 boundary를 넘어가는 경우라면 Unk101과 같이 Unk%d의 형식으로 출력됩니다. "
   ]
  },
  {
   "cell_type": "code",
   "execution_count": 4,
   "metadata": {
    "collapsed": true
   },
   "outputs": [],
   "source": [
    "from soykeyword.lasso import LassoKeywordExtractor\n",
    "\n",
    "lassobased_extractor = LassoKeywordExtractor(\n",
    "    costs=[500, 200, 100, 50, 10, 5, 1, 0.1],\n",
    "    min_tf=20, \n",
    "    min_df=10\n",
    ")\n",
    "\n",
    "lassobased_extractor.train(x, index2word)"
   ]
  },
  {
   "cell_type": "markdown",
   "metadata": {},
   "source": [
    "index2word가 train에 입력되면 '아이오아이'가 포함된 문서의 index를 가져올 수도 있습니다. "
   ]
  },
  {
   "cell_type": "code",
   "execution_count": 5,
   "metadata": {},
   "outputs": [],
   "source": [
    "documents = lassobased_extractor.get_document_index('아이오아이')"
   ]
  },
  {
   "cell_type": "markdown",
   "metadata": {},
   "source": [
    "extract_from_docs(documents)는 documents를 positive set으로, documents가 아닌 모든 문서를 negative set으로 선택한 뒤, 이 둘을 구분하는 L1 Logistic regression을 학습합니다. 이 때에는 '아이오아이'라는 단어가 포함된 문서와 포함되지 않는 문서를 구분하는 classifier를 학습하였기 때문에 '아이오아이'가 최상위 키워드로 선택됩니다. 하지만 이는 정답을 알고 문제를 푸는 격입니다. extract_from_docs는 이 경우보다는 본인이 positive set으로 선택하고 싶은 문서 집합이 명확히 있을 때 이용하는 방법입니다.  "
   ]
  },
  {
   "cell_type": "code",
   "execution_count": 6,
   "metadata": {},
   "outputs": [
    {
     "name": "stdout",
     "output_type": "stream",
     "text": [
      "4 keywords extracted from 0.100 cost\n",
      "4 keywords extracted from 1.000 cost\n",
      "4 keywords extracted from 5.000 cost\n",
      "6 keywords extracted from 10.000 cost\n",
      "22 keywords extracted from 50.000 cost\n",
      "20 keywords extracted from 100.000 cost\n",
      "31 keywords extracted from 200.000 cost\n"
     ]
    },
    {
     "data": {
      "text/plain": [
       "[KeywordScore(word='아이오아이', frequency=270, coefficient=16.863716939930132),\n",
       " KeywordScore(word='엠카운트다운', frequency=221, coefficient=1.1056982790394627),\n",
       " KeywordScore(word='챔피언', frequency=105, coefficient=0.7927574636331246),\n",
       " KeywordScore(word='키미', frequency=297, coefficient=0.7806037740920522),\n",
       " KeywordScore(word='산들', frequency=90, coefficient=0.7395906456639183),\n",
       " KeywordScore(word='337', frequency=112, coefficient=0.6856700083174976),\n",
       " KeywordScore(word='선의', frequency=40, coefficient=0.6759711199978883),\n",
       " KeywordScore(word='뉴스1스타', frequency=357, coefficient=0.512770656563085),\n",
       " KeywordScore(word='세련', frequency=192, coefficient=0.45586536014656254),\n",
       " KeywordScore(word='일산', frequency=194, coefficient=0.4365783519038284),\n",
       " KeywordScore(word='수출', frequency=735, coefficient=0.41409230050251933),\n",
       " KeywordScore(word='뮤직', frequency=195, coefficient=0.40787275330080236),\n",
       " KeywordScore(word='강렬', frequency=352, coefficient=0.3489858450908366),\n",
       " KeywordScore(word='컴백', frequency=536, coefficient=0.3342775417324801),\n",
       " KeywordScore(word='카메라', frequency=439, coefficient=0.2945231093771951),\n",
       " KeywordScore(word='선보', frequency=2623, coefficient=0.2908322003473242),\n",
       " KeywordScore(word='화려', frequency=518, coefficient=0.26869124409010403),\n",
       " KeywordScore(word='불독', frequency=1212, coefficient=0.24988017261863454),\n",
       " KeywordScore(word='1위', frequency=1357, coefficient=0.23921011128381447),\n",
       " KeywordScore(word='세븐', frequency=76, coefficient=0.23646900295681603),\n",
       " KeywordScore(word='음반', frequency=204, coefficient=0.2220917742460055),\n",
       " KeywordScore(word='보컬', frequency=155, coefficient=0.21643812387553085),\n",
       " KeywordScore(word='먹고', frequency=216, coefficient=0.2028043960730596),\n",
       " KeywordScore(word='파워풀', frequency=152, coefficient=0.19459716086623813),\n",
       " KeywordScore(word='맡았다', frequency=334, coefficient=0.1914684107119714),\n",
       " KeywordScore(word='해외', frequency=1612, coefficient=0.18472198908308357),\n",
       " KeywordScore(word='블랙핑크', frequency=190, coefficient=0.15163259469592433),\n",
       " KeywordScore(word='준비', frequency=1661, coefficient=0.11880679088748886),\n",
       " KeywordScore(word='신용재', frequency=82, coefficient=0.09611925276939279),\n",
       " KeywordScore(word='걸크러쉬', frequency=111, coefficient=0.07338452215613553),\n",
       " KeywordScore(word='순위', frequency=259, coefficient=0.016164107723792544)]"
      ]
     },
     "execution_count": 6,
     "metadata": {},
     "output_type": "execute_result"
    }
   ],
   "source": [
    "keywords = lassobased_extractor.extract_from_docs(\n",
    "    documents,\n",
    "    min_num_of_keywords=30\n",
    ")\n",
    "\n",
    "keywords"
   ]
  },
  {
   "cell_type": "markdown",
   "metadata": {},
   "source": [
    "extract_from_word(aspect_word)는 aspect_word가 들어간 문서 집합을 positive set으로, 그렇지 않은 문서 집합을 negative set으로 선택하여 이를 구분하는 classifier를 학습하는 것입니다. 이 때, positive set에서 aspect_word를 제외합니다. 이렇게 할 경우, aspect_word 때문에 잘못된 hyperplane이 선택되는 문제를 해결할 수 있습니다. \n",
    "\n",
    "2016-10-20에는 '아이오아이'가 마지막 곡인 '너무너무너무'곡으로 활동하던 시절입니다. 그렇기 때문에 '너무너무너무'와 '엠카운트다운'과 같은 단어가 키워드로 선택되었음을 볼 수 있습니다. "
   ]
  },
  {
   "cell_type": "code",
   "execution_count": 7,
   "metadata": {},
   "outputs": [
    {
     "name": "stdout",
     "output_type": "stream",
     "text": [
      "28 keywords extracted from 0.100 cost\n",
      "63 keywords extracted from 1.000 cost\n"
     ]
    },
    {
     "data": {
      "text/plain": [
       "[KeywordScore(word='너무너무너무', frequency=86, coefficient=3.811363585301442),\n",
       " KeywordScore(word='선의', frequency=40, coefficient=3.260609178301954),\n",
       " KeywordScore(word='산들', frequency=90, coefficient=2.4428582745497383),\n",
       " KeywordScore(word='엠카운트다운', frequency=221, coefficient=1.758800084641148),\n",
       " KeywordScore(word='챔피언', frequency=105, coefficient=1.4904051304987533),\n",
       " KeywordScore(word='사나', frequency=46, coefficient=1.4166493501583888),\n",
       " KeywordScore(word='드림', frequency=119, coefficient=1.338213896311312),\n",
       " KeywordScore(word='뮤직', frequency=195, coefficient=1.182081102732403),\n",
       " KeywordScore(word='먹고', frequency=216, coefficient=1.1661079085413197),\n",
       " KeywordScore(word='완전체', frequency=77, coefficient=1.1185155121358636),\n",
       " KeywordScore(word='일산', frequency=194, coefficient=0.9649719846059842),\n",
       " KeywordScore(word='세련', frequency=192, coefficient=0.9534022092010319),\n",
       " KeywordScore(word='같이', frequency=918, coefficient=0.8494189481554095),\n",
       " KeywordScore(word='컴백', frequency=536, coefficient=0.7698982175430998),\n",
       " KeywordScore(word='소속사', frequency=460, coefficient=0.744852046361034),\n",
       " KeywordScore(word='곡으로', frequency=126, coefficient=0.7388316970147865),\n",
       " KeywordScore(word='보컬', frequency=155, coefficient=0.7184342795085382),\n",
       " KeywordScore(word='열창', frequency=40, coefficient=0.7162802645310599),\n",
       " KeywordScore(word='뉴스1스타', frequency=357, coefficient=0.6951659787945933),\n",
       " KeywordScore(word='만나게', frequency=127, coefficient=0.6899884147340961),\n",
       " KeywordScore(word='인사', frequency=1213, coefficient=0.6842032032237326),\n",
       " KeywordScore(word='마무리', frequency=606, coefficient=0.6282133529996903),\n",
       " KeywordScore(word='박진영', frequency=81, coefficient=0.6078075966587521),\n",
       " KeywordScore(word='선보', frequency=2623, coefficient=0.5997881478095288),\n",
       " KeywordScore(word='무대', frequency=1332, coefficient=0.5948113158327224),\n",
       " KeywordScore(word='수출', frequency=735, coefficient=0.5720258512178216),\n",
       " KeywordScore(word='서울신문', frequency=776, coefficient=0.548342162149289),\n",
       " KeywordScore(word='활동', frequency=2473, coefficient=0.4893341420840217),\n",
       " KeywordScore(word='다이아', frequency=182, coefficient=0.48576182735008516),\n",
       " KeywordScore(word='유정', frequency=161, coefficient=0.4813859389631463),\n",
       " KeywordScore(word='인기', frequency=1494, coefficient=0.4627319130730135),\n",
       " KeywordScore(word='매력', frequency=1371, coefficient=0.4510134020423253),\n",
       " KeywordScore(word='등장', frequency=1038, coefficient=0.4461939412387723),\n",
       " KeywordScore(word='카메라', frequency=439, coefficient=0.42646878455001386),\n",
       " KeywordScore(word='개인', frequency=1246, coefficient=0.39240868329610573),\n",
       " KeywordScore(word='고양시', frequency=264, coefficient=0.3713914235964448),\n",
       " KeywordScore(word='비타민', frequency=115, coefficient=0.3587705642676993),\n",
       " KeywordScore(word='수준', frequency=2240, coefficient=0.3516954137049954),\n",
       " KeywordScore(word='멤버들', frequency=504, coefficient=0.340257960346612),\n",
       " KeywordScore(word='한편', frequency=3393, coefficient=0.3376376613886529),\n",
       " KeywordScore(word='걸그룹', frequency=1060, coefficient=0.33492973098211426),\n",
       " KeywordScore(word='예능', frequency=634, coefficient=0.2880635213041316),\n",
       " KeywordScore(word='1위', frequency=1357, coefficient=0.28786897690278923),\n",
       " KeywordScore(word='세븐', frequency=76, coefficient=0.2874858440529727),\n",
       " KeywordScore(word='순위', frequency=259, coefficient=0.27772689526824135),\n",
       " KeywordScore(word='발매', frequency=664, coefficient=0.2756818597664685),\n",
       " KeywordScore(word='야구', frequency=148, coefficient=0.2426731940791981),\n",
       " KeywordScore(word='불독', frequency=1212, coefficient=0.18974685506564526),\n",
       " KeywordScore(word='다비치', frequency=84, coefficient=0.18670020636461063),\n",
       " KeywordScore(word='파워풀', frequency=152, coefficient=0.176804415326684),\n",
       " KeywordScore(word='이날', frequency=6340, coefficient=0.1764589230018417),\n",
       " KeywordScore(word='일산동구', frequency=36, coefficient=0.16637667433933145),\n",
       " KeywordScore(word='신용재', frequency=82, coefficient=0.16345673041133074),\n",
       " KeywordScore(word='걸크러쉬', frequency=111, coefficient=0.15955942991874697),\n",
       " KeywordScore(word='화려', frequency=518, coefficient=0.1515821207980211),\n",
       " KeywordScore(word='프로듀스101', frequency=96, coefficient=0.06310643822968422),\n",
       " KeywordScore(word='반전', frequency=202, coefficient=0.06217386378894662),\n",
       " KeywordScore(word='일간스포츠', frequency=1235, coefficient=0.06200552911815558),\n",
       " KeywordScore(word='프로그램', frequency=2648, coefficient=0.05808469699389476),\n",
       " KeywordScore(word='스마트폰', frequency=996, coefficient=0.05511252290494846),\n",
       " KeywordScore(word='트와이스', frequency=655, coefficient=0.030118049287324134),\n",
       " KeywordScore(word='키미', frequency=297, coefficient=0.024678150470057766),\n",
       " KeywordScore(word='프로듀스', frequency=185, coefficient=0.01423607004964703)]"
      ]
     },
     "execution_count": 7,
     "metadata": {},
     "output_type": "execute_result"
    }
   ],
   "source": [
    "keywords = lassobased_extractor.extract_from_word(\n",
    "    '아이오아이',\n",
    "    min_num_of_keywords=30\n",
    ")\n",
    "\n",
    "keywords"
   ]
  },
  {
   "cell_type": "markdown",
   "metadata": {},
   "source": [
    "'최순실'의 경우에도 '박근혜-최순실 게이트'사건이 시작되는 단계이기 때문에 해당 뉴스들이 나오고 있었습니다. '최순실'이라는 단어가 들어간 문서를 선택하는 기준은 [게이트, 정유라, 고영태, 이화여대, 미르재단]과 같은 단어가 선택되어 해당 날짜의 뉴스를 잘 요약하고 있음을 볼 수 있습니다. "
   ]
  },
  {
   "cell_type": "code",
   "execution_count": 8,
   "metadata": {},
   "outputs": [
    {
     "name": "stdout",
     "output_type": "stream",
     "text": [
      "78 keywords extracted from 0.100 cost\n"
     ]
    },
    {
     "data": {
      "text/plain": [
       "[KeywordScore(word='게이트', frequency=303, coefficient=4.203530951589102),\n",
       " KeywordScore(word='정유라', frequency=329, coefficient=2.0370901554950804),\n",
       " KeywordScore(word='고영태', frequency=65, coefficient=1.7219341996330222),\n",
       " KeywordScore(word='편파기소', frequency=54, coefficient=1.2857418902567233),\n",
       " KeywordScore(word='최서원', frequency=94, coefficient=1.276402316663096),\n",
       " KeywordScore(word='비선', frequency=288, coefficient=1.013431258010121),\n",
       " KeywordScore(word='씨와', frequency=372, coefficient=0.7832900187500241),\n",
       " KeywordScore(word='이화여대', frequency=651, coefficient=0.7238478226111031),\n",
       " KeywordScore(word='송민순', frequency=821, coefficient=0.6900738555127518),\n",
       " KeywordScore(word='뉴스', frequency=4682, coefficient=0.578590601117043),\n",
       " KeywordScore(word='연설문', frequency=204, coefficient=0.4972699731985621),\n",
       " KeywordScore(word='침묵', frequency=223, coefficient=0.42633540175726864),\n",
       " KeywordScore(word='박근혜', frequency=1445, coefficient=0.40733587472550215),\n",
       " KeywordScore(word='실세', frequency=309, coefficient=0.3798882077297938),\n",
       " KeywordScore(word='거의', frequency=522, coefficient=0.363136344754004),\n",
       " KeywordScore(word='미르재단', frequency=247, coefficient=0.34208903813040137),\n",
       " KeywordScore(word='자료', frequency=1029, coefficient=0.3300946169389572),\n",
       " KeywordScore(word='청와대', frequency=2112, coefficient=0.32726853766828545),\n",
       " KeywordScore(word='사퇴', frequency=463, coefficient=0.32359939846375835),\n",
       " KeywordScore(word='비선실세', frequency=219, coefficient=0.3087134187948135),\n",
       " KeywordScore(word='의혹', frequency=3602, coefficient=0.28837633489860093),\n",
       " KeywordScore(word='기자들', frequency=463, coefficient=0.27661251014937727),\n",
       " KeywordScore(word='더블루케이', frequency=194, coefficient=0.27114207540567203),\n",
       " KeywordScore(word='더블', frequency=225, coefficient=0.2561722266861376),\n",
       " KeywordScore(word='민생', frequency=164, coefficient=0.22869407515419757),\n",
       " KeywordScore(word='우병우', frequency=721, coefficient=0.22489478231971183),\n",
       " KeywordScore(word='설립', frequency=1522, coefficient=0.22382497260597484),\n",
       " KeywordScore(word='독일', frequency=959, coefficient=0.22367031030199455),\n",
       " KeywordScore(word='검색어', frequency=62, coefficient=0.2175704597495165),\n",
       " KeywordScore(word='나라', frequency=1090, coefficient=0.21615008457090304),\n",
       " KeywordScore(word='개명', frequency=124, coefficient=0.2096945698675658),\n",
       " KeywordScore(word='오늘', frequency=2318, coefficient=0.20316558350555022),\n",
       " KeywordScore(word='총격', frequency=750, coefficient=0.18652767898374983),\n",
       " KeywordScore(word='위원장', frequency=720, coefficient=0.18382049036608228),\n",
       " KeywordScore(word='이대', frequency=419, coefficient=0.17584264479414732),\n",
       " KeywordScore(word='교수', frequency=2075, coefficient=0.1668385902963088),\n",
       " KeywordScore(word='문체부', frequency=268, coefficient=0.16449179786974866),\n",
       " KeywordScore(word='호텔', frequency=826, coefficient=0.1643853828274572),\n",
       " KeywordScore(word='스포츠재단', frequency=676, coefficient=0.15367637649482127),\n",
       " KeywordScore(word='창단', frequency=108, coefficient=0.14863646764597432),\n",
       " KeywordScore(word='00', frequency=462, coefficient=0.14444492164414832),\n",
       " KeywordScore(word='재단', frequency=1690, coefficient=0.1426176352396053),\n",
       " KeywordScore(word='미르', frequency=604, coefficient=0.13415892989170397),\n",
       " KeywordScore(word='핵심', frequency=948, coefficient=0.12937562928971486),\n",
       " KeywordScore(word='간사', frequency=473, coefficient=0.12914242782592875),\n",
       " KeywordScore(word='학생들', frequency=1270, coefficient=0.12687897355342467),\n",
       " KeywordScore(word='새누리당', frequency=2151, coefficient=0.12054213899714214),\n",
       " KeywordScore(word='정국', frequency=137, coefficient=0.11435507929598371),\n",
       " KeywordScore(word='복지부', frequency=191, coefficient=0.11310928310406063),\n",
       " KeywordScore(word='수사', frequency=2215, coefficient=0.10937107088220215),\n",
       " KeywordScore(word='더불어민주당', frequency=1980, coefficient=0.1060310496663279),\n",
       " KeywordScore(word='개입', frequency=473, coefficient=0.10426494476887495),\n",
       " KeywordScore(word='대통령', frequency=5682, coefficient=0.10411562400665422),\n",
       " KeywordScore(word='특혜', frequency=532, coefficient=0.09349316298408468),\n",
       " KeywordScore(word='있습니다', frequency=3068, coefficient=0.08926887696427321),\n",
       " KeywordScore(word='문제', frequency=4224, coefficient=0.08788890220045419),\n",
       " KeywordScore(word='금지', frequency=19890, coefficient=0.08785197626885828),\n",
       " KeywordScore(word='부총리', frequency=426, coefficient=0.08740005483597454),\n",
       " KeywordScore(word='보도', frequency=1737, coefficient=0.08504242997175009),\n",
       " KeywordScore(word='오패산', frequency=412, coefficient=0.08375870453813151),\n",
       " KeywordScore(word='검토', frequency=871, coefficient=0.07996560918436409),\n",
       " KeywordScore(word='국정원', frequency=797, coefficient=0.07344371442317786),\n",
       " KeywordScore(word='여당', frequency=471, coefficient=0.07078605796286633),\n",
       " KeywordScore(word='확인', frequency=3545, coefficient=0.06680725648499952),\n",
       " KeywordScore(word='사람', frequency=4919, coefficient=0.06512447686483636),\n",
       " KeywordScore(word='언급', frequency=1094, coefficient=0.06448815602640479),\n",
       " KeywordScore(word='인권', frequency=512, coefficient=0.06300719194755824),\n",
       " KeywordScore(word='경제', frequency=3594, coefficient=0.05082814130840482),\n",
       " KeywordScore(word='대표', frequency=7727, coefficient=0.039830645388003565),\n",
       " KeywordScore(word='여야', frequency=477, coefficient=0.03325678770042558),\n",
       " KeywordScore(word='의원', frequency=2925, coefficient=0.03155911315660069),\n",
       " KeywordScore(word='이런', frequency=2693, coefficient=0.02996284525056098),\n",
       " KeywordScore(word='사람들', frequency=2455, coefficient=0.029049298113414484),\n",
       " KeywordScore(word='기존', frequency=2055, coefficient=0.02893508510995682),\n",
       " KeywordScore(word='전화', frequency=1002, coefficient=0.0242853716069924),\n",
       " KeywordScore(word='고발', frequency=435, coefficient=0.013163343504461227),\n",
       " KeywordScore(word='인터뷰', frequency=1376, coefficient=0.003691429712275829),\n",
       " KeywordScore(word='일이다', frequency=194, coefficient=0.0004716585361349754)]"
      ]
     },
     "execution_count": 8,
     "metadata": {},
     "output_type": "execute_result"
    }
   ],
   "source": [
    "keywords = lassobased_extractor.extract_from_word(\n",
    "    '최순실',\n",
    "    min_num_of_keywords=30\n",
    ")\n",
    "\n",
    "keywords"
   ]
  },
  {
   "cell_type": "code",
   "execution_count": null,
   "metadata": {
    "collapsed": true
   },
   "outputs": [],
   "source": []
  }
 ],
 "metadata": {
  "kernelspec": {
   "display_name": "Python 3",
   "language": "python",
   "name": "python3"
  },
  "language_info": {
   "codemirror_mode": {
    "name": "ipython",
    "version": 3
   },
   "file_extension": ".py",
   "mimetype": "text/x-python",
   "name": "python",
   "nbconvert_exporter": "python",
   "pygments_lexer": "ipython3",
   "version": "3.6.2"
  }
 },
 "nbformat": 4,
 "nbformat_minor": 1
}
