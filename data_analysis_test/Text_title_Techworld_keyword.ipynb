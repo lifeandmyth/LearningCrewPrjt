{
 "cells": [
  {
   "cell_type": "markdown",
   "id": "4968e734-bfab-40ce-b2ab-1b3bdfdb2d10",
   "metadata": {},
   "source": [
    "# 1. 키워드 추출"
   ]
  },
  {
   "cell_type": "markdown",
   "id": "43d13903-120a-4276-8392-8e4a8ff30efa",
   "metadata": {},
   "source": [
    "## 1-1 제목에서 추출"
   ]
  },
  {
   "cell_type": "code",
   "execution_count": 1,
   "id": "3704c0d2-174a-4609-9992-86798b88b5ad",
   "metadata": {},
   "outputs": [],
   "source": [
    "# 불필요한 경고 출력을 방지\n",
    "import warnings\n",
    "warnings.filterwarnings('ignore')"
   ]
  },
  {
   "cell_type": "code",
   "execution_count": 2,
   "id": "6a50a8ac-0efa-4343-8c6f-9fdd45bb6ed6",
   "metadata": {},
   "outputs": [],
   "source": [
    "import pandas as pd\n",
    "import matplotlib.pyplot as plt\n",
    "import seaborn as sns\n",
    "import numpy as np\n",
    "from sklearn.model_selection import train_test_split\n"
   ]
  },
  {
   "cell_type": "code",
   "execution_count": 3,
   "id": "f5485ab0-572d-4c63-aca5-d28cbaf2caf2",
   "metadata": {},
   "outputs": [
    {
     "name": "stdout",
     "output_type": "stream",
     "text": [
      "['Malgun Gothic']\n"
     ]
    }
   ],
   "source": [
    "# '-' 깨짐 해결 모듈\n",
    "import matplotlib.pylab as plt\n",
    "\n",
    "import matplotlib as mpl\n",
    "\n",
    "plt.rcParams[\"font.family\"] = \"Malgun Gothic\"  # For Windows\n",
    "plt.rcParams[\"font.size\"] = 12\n",
    "plt.rcParams[\"figure.figsize\"] = (8,4)\n",
    "print(plt.rcParams[\"font.family\"])\n",
    "\n",
    "# 마이너스 깨짐 해결\n",
    "mpl.rcParams[\"axes.unicode_minus\"] = False"
   ]
  },
  {
   "cell_type": "markdown",
   "id": "0641609f-979f-402d-be81-d08df52ca0e3",
   "metadata": {},
   "source": [
    "### 데이터 읽기"
   ]
  },
  {
   "cell_type": "code",
   "execution_count": 4,
   "id": "481d2d62-5bea-4ef6-939c-e53dbf19689f",
   "metadata": {},
   "outputs": [
    {
     "name": "stdout",
     "output_type": "stream",
     "text": [
      "(1785, 9)\n"
     ]
    }
   ],
   "source": [
    "# techworld\n",
    "df_techworld = pd.read_csv('../data_crawling_D/before_keywords/news_techworld_t_202306241209.csv')\n",
    "print(df_techworld.shape)"
   ]
  },
  {
   "cell_type": "code",
   "execution_count": 5,
   "id": "a9317657-257a-4d07-b1e4-843a9090eeed",
   "metadata": {},
   "outputs": [
    {
     "data": {
      "text/html": [
       "<div>\n",
       "<style scoped>\n",
       "    .dataframe tbody tr th:only-of-type {\n",
       "        vertical-align: middle;\n",
       "    }\n",
       "\n",
       "    .dataframe tbody tr th {\n",
       "        vertical-align: top;\n",
       "    }\n",
       "\n",
       "    .dataframe thead th {\n",
       "        text-align: right;\n",
       "    }\n",
       "</style>\n",
       "<table border=\"1\" class=\"dataframe\">\n",
       "  <thead>\n",
       "    <tr style=\"text-align: right;\">\n",
       "      <th></th>\n",
       "      <th>idx</th>\n",
       "      <th>news_date</th>\n",
       "      <th>news_title</th>\n",
       "      <th>news_text_sm</th>\n",
       "      <th>url_in</th>\n",
       "      <th>news_writer</th>\n",
       "      <th>tags_string</th>\n",
       "      <th>thumb_addr</th>\n",
       "      <th>news_site</th>\n",
       "    </tr>\n",
       "  </thead>\n",
       "  <tbody>\n",
       "    <tr>\n",
       "      <th>0</th>\n",
       "      <td>1</td>\n",
       "      <td>2023.05.30 16:58</td>\n",
       "      <td>티맥스티베로-인텔코리아, ‘비즈니스 연속성 혁신 전략’ 웨비나 개최</td>\n",
       "      <td>DBMS 전문 기업 티맥스티베로가 내달 1일에 ‘비즈니스 연속성 왜 혁신이 필요한가...</td>\n",
       "      <td>https://www.epnc.co.kr/news/articleView.html?i...</td>\n",
       "      <td>양승갑 기자</td>\n",
       "      <td>NaN</td>\n",
       "      <td>https://cdn.epnc.co.kr/news/thumbnail/202305/2...</td>\n",
       "      <td>TechWorld</td>\n",
       "    </tr>\n",
       "    <tr>\n",
       "      <th>1</th>\n",
       "      <td>2</td>\n",
       "      <td>2023.05.25 09:46</td>\n",
       "      <td>무하유, 서울관광재단에 AI 서류평가 ‘프리즘’ 제공</td>\n",
       "      <td>실용 인공지능(AI) 기술 기업 무하유가 자사 AI 서류평가 서비스 '프리즘'을 서...</td>\n",
       "      <td>https://www.epnc.co.kr/news/articleView.html?i...</td>\n",
       "      <td>양승갑 기자</td>\n",
       "      <td>NaN</td>\n",
       "      <td>https://cdn.epnc.co.kr/news/thumbnail/202305/2...</td>\n",
       "      <td>TechWorld</td>\n",
       "    </tr>\n",
       "    <tr>\n",
       "      <th>2</th>\n",
       "      <td>3</td>\n",
       "      <td>2023.05.25 09:26</td>\n",
       "      <td>뤼튼, 아시아 생성AI 컨퍼런스 ‘GAA 2023’ 31일 개최</td>\n",
       "      <td>올인원 AI(인공지능) 플랫폼 ‘뤼튼테크놀로지스(뤼튼)’가 오는 31일 그랜드 인터...</td>\n",
       "      <td>https://www.epnc.co.kr/news/articleView.html?i...</td>\n",
       "      <td>양승갑 기자</td>\n",
       "      <td>NaN</td>\n",
       "      <td>https://cdn.epnc.co.kr/news/thumbnail/202305/2...</td>\n",
       "      <td>TechWorld</td>\n",
       "    </tr>\n",
       "    <tr>\n",
       "      <th>3</th>\n",
       "      <td>4</td>\n",
       "      <td>2023.05.30 09:23</td>\n",
       "      <td>한국레노버, 8세대 요가 신제품 3종 출시</td>\n",
       "      <td>한국레노버가 콘텐츠 크리에이터를 위한 뛰어난 성능과 다양한 기능 휴대성을 갖춘 프리...</td>\n",
       "      <td>https://www.epnc.co.kr/news/articleView.html?i...</td>\n",
       "      <td>김창수 기자</td>\n",
       "      <td>NaN</td>\n",
       "      <td>https://cdn.epnc.co.kr/news/thumbnail/202305/2...</td>\n",
       "      <td>TechWorld</td>\n",
       "    </tr>\n",
       "    <tr>\n",
       "      <th>4</th>\n",
       "      <td>5</td>\n",
       "      <td>2023.05.30 09:14</td>\n",
       "      <td>KT, 롯데온 AI ‘리스포’ 적용…유통 물류 혁신 가속화</td>\n",
       "      <td>KT가 롯데그룹의 e커머스 플랫폼인 롯데온과 손잡고 인공지능(AI)과 빅데이터 기반...</td>\n",
       "      <td>https://www.epnc.co.kr/news/articleView.html?i...</td>\n",
       "      <td>양승갑 기자</td>\n",
       "      <td>NaN</td>\n",
       "      <td>https://cdn.epnc.co.kr/news/thumbnail/202305/2...</td>\n",
       "      <td>TechWorld</td>\n",
       "    </tr>\n",
       "  </tbody>\n",
       "</table>\n",
       "</div>"
      ],
      "text/plain": [
       "   idx         news_date                             news_title  \\\n",
       "0    1  2023.05.30 16:58  티맥스티베로-인텔코리아, ‘비즈니스 연속성 혁신 전략’ 웨비나 개최   \n",
       "1    2  2023.05.25 09:46          무하유, 서울관광재단에 AI 서류평가 ‘프리즘’ 제공   \n",
       "2    3  2023.05.25 09:26    뤼튼, 아시아 생성AI 컨퍼런스 ‘GAA 2023’ 31일 개최   \n",
       "3    4  2023.05.30 09:23                한국레노버, 8세대 요가 신제품 3종 출시   \n",
       "4    5  2023.05.30 09:14       KT, 롯데온 AI ‘리스포’ 적용…유통 물류 혁신 가속화   \n",
       "\n",
       "                                        news_text_sm  \\\n",
       "0  DBMS 전문 기업 티맥스티베로가 내달 1일에 ‘비즈니스 연속성 왜 혁신이 필요한가...   \n",
       "1  실용 인공지능(AI) 기술 기업 무하유가 자사 AI 서류평가 서비스 '프리즘'을 서...   \n",
       "2  올인원 AI(인공지능) 플랫폼 ‘뤼튼테크놀로지스(뤼튼)’가 오는 31일 그랜드 인터...   \n",
       "3  한국레노버가 콘텐츠 크리에이터를 위한 뛰어난 성능과 다양한 기능 휴대성을 갖춘 프리...   \n",
       "4  KT가 롯데그룹의 e커머스 플랫폼인 롯데온과 손잡고 인공지능(AI)과 빅데이터 기반...   \n",
       "\n",
       "                                              url_in news_writer  tags_string  \\\n",
       "0  https://www.epnc.co.kr/news/articleView.html?i...      양승갑 기자          NaN   \n",
       "1  https://www.epnc.co.kr/news/articleView.html?i...      양승갑 기자          NaN   \n",
       "2  https://www.epnc.co.kr/news/articleView.html?i...      양승갑 기자          NaN   \n",
       "3  https://www.epnc.co.kr/news/articleView.html?i...      김창수 기자          NaN   \n",
       "4  https://www.epnc.co.kr/news/articleView.html?i...      양승갑 기자          NaN   \n",
       "\n",
       "                                          thumb_addr  news_site  \n",
       "0  https://cdn.epnc.co.kr/news/thumbnail/202305/2...  TechWorld  \n",
       "1  https://cdn.epnc.co.kr/news/thumbnail/202305/2...  TechWorld  \n",
       "2  https://cdn.epnc.co.kr/news/thumbnail/202305/2...  TechWorld  \n",
       "3  https://cdn.epnc.co.kr/news/thumbnail/202305/2...  TechWorld  \n",
       "4  https://cdn.epnc.co.kr/news/thumbnail/202305/2...  TechWorld  "
      ]
     },
     "execution_count": 5,
     "metadata": {},
     "output_type": "execute_result"
    }
   ],
   "source": [
    "df_techworld.head()\n"
   ]
  },
  {
   "cell_type": "code",
   "execution_count": 6,
   "id": "2a419861-8e8d-4b9b-b124-cecf28ca21b5",
   "metadata": {},
   "outputs": [
    {
     "name": "stdout",
     "output_type": "stream",
     "text": [
      "<class 'pandas.core.frame.DataFrame'>\n",
      "RangeIndex: 1785 entries, 0 to 1784\n",
      "Data columns (total 9 columns):\n",
      " #   Column        Non-Null Count  Dtype  \n",
      "---  ------        --------------  -----  \n",
      " 0   idx           1785 non-null   int64  \n",
      " 1   news_date     1785 non-null   object \n",
      " 2   news_title    1785 non-null   object \n",
      " 3   news_text_sm  1785 non-null   object \n",
      " 4   url_in        1785 non-null   object \n",
      " 5   news_writer   1785 non-null   object \n",
      " 6   tags_string   0 non-null      float64\n",
      " 7   thumb_addr    1785 non-null   object \n",
      " 8   news_site     1785 non-null   object \n",
      "dtypes: float64(1), int64(1), object(7)\n",
      "memory usage: 125.6+ KB\n"
     ]
    }
   ],
   "source": [
    "df_techworld.info()\n"
   ]
  },
  {
   "cell_type": "code",
   "execution_count": 7,
   "id": "d0aea9bd-5fa5-4548-84ef-f9b3b429aea7",
   "metadata": {},
   "outputs": [],
   "source": [
    "# df_techworld.columns\n",
    "# idx 떼내기\n",
    "df_techworld = df_techworld[[ 'news_date', 'news_title', 'news_text_sm', 'url_in',\n",
    "       'news_writer', 'tags_string', 'thumb_addr', 'news_site']]"
   ]
  },
  {
   "cell_type": "code",
   "execution_count": 8,
   "id": "a3d193ef-bd77-40e1-a979-2e7ad2c83a7a",
   "metadata": {},
   "outputs": [
    {
     "data": {
      "text/plain": [
       "0       2023-05-30 16:58\n",
       "1       2023-05-25 09:46\n",
       "2       2023-05-25 09:26\n",
       "3       2023-05-30 09:23\n",
       "4       2023-05-30 09:14\n",
       "              ...       \n",
       "1780    2022-06-07 10:54\n",
       "1781    2022-06-07 09:29\n",
       "1782    2022-06-03 17:15\n",
       "1783    2022-06-03 17:15\n",
       "1784    2022-06-03 17:15\n",
       "Name: news_date, Length: 1785, dtype: object"
      ]
     },
     "execution_count": 8,
     "metadata": {},
     "output_type": "execute_result"
    }
   ],
   "source": [
    "# df_recentit news_date 수정하기 (맨우측에 . 삭제)\n",
    "df_techworld['news_date']= df_techworld['news_date'].str.replace(r'\\.', '-', regex=True)\n",
    "df_techworld['news_date']\n",
    "\n",
    "# [ 출처: https://seong6496.tistory.com/ ]"
   ]
  },
  {
   "cell_type": "code",
   "execution_count": 9,
   "id": "c866a6f1-4288-4dcc-a6d7-eca5c6d30d97",
   "metadata": {},
   "outputs": [],
   "source": [
    "# 결측값 채우기\n",
    "df_techworld.fillna('', inplace=True)\n",
    "# df_itworld.fillna('')"
   ]
  },
  {
   "cell_type": "markdown",
   "id": "7960763d-8761-47a4-aa2f-f4bde31106b1",
   "metadata": {},
   "source": [
    "## KoNLPy로 단어 단위 분해"
   ]
  },
  {
   "cell_type": "code",
   "execution_count": 10,
   "id": "42ea0158-3f2e-42b7-919d-475342d00b36",
   "metadata": {},
   "outputs": [],
   "source": [
    "# datetime(날짜), os 호출\n",
    "\n",
    "import datetime\n",
    "import os\n",
    "# 불용.txt 읽기 위해 csv 파일 호출\n",
    "import csv\n",
    "import re\n",
    "# konlpy 호출\n",
    "from konlpy.tag import Okt\n",
    "\n",
    "# 자연어, 불용어 처리 및 wordcloud 생성을 위해\n",
    "# 집계 메소드\n",
    "from collections import Counter\n",
    "from konlpy.tag import Komoran\n",
    "# https://datascienceschool.net/03%20machine%20learning/03.01.01%20NLTK%20%EC%9E%90%EC%97%B0%EC%96%B4%20%EC%B2%98%EB%A6%AC%20%ED%8C%A8%ED%82%A4%EC%A7%80.html\n",
    "from nltk.tokenize import word_tokenize\n"
   ]
  },
  {
   "cell_type": "code",
   "execution_count": 11,
   "id": "b3ba5e2f-2c94-462b-8646-9a83bec0d232",
   "metadata": {},
   "outputs": [],
   "source": [
    "# 모듈화\n",
    "def get_title_keywords(df):\n",
    "    # 컬럼 'news_title' 가져오기 \n",
    "    rdr = df['news_title'] \n",
    "    \n",
    "    # Okt 객체 선언\n",
    "    okt = Okt()\n",
    "    ###  불용어 빼기\n",
    "    # 불용어 파일 읽기\n",
    "    stop_words = []\n",
    "    with open('../data_analysis_test/불용.txt', 'r', encoding='utf-8') as file:\n",
    "       stop_words = file.read().splitlines()\n",
    "    \n",
    "    h_word_list = []\n",
    "    for w_bundle in rdr:\n",
    "      # print(okt.nouns(w_bundle))\n",
    "        list = okt.nouns(w_bundle)\n",
    "        # 특수문자 제거\n",
    "        tokens = \",\".join(list)\n",
    "        tokens = re.sub('[\\{\\}\\[\\]\\/?.;:|\\)*~`!^\\-_+<>@\\#$%&\\\\\\=\\(\\'\\\"]', '', tokens)\n",
    "        list = tokens.split(\",\")\n",
    "        # 한글자인 명사, ',' 빼기 (예외:웹,앱,폰,챗)\n",
    "        for i,v in enumerate(list):\n",
    "            if len(v) < 2 and (v != '웹' and v != '앱' and v != '폰' and v != '챗'):\n",
    "                list.pop(i)\n",
    "            elif v == ',':\n",
    "                list.pop(i)\n",
    "            # 불용어 제거\n",
    "            elif i in stop_words:\n",
    "                list.pop(i)\n",
    "        list_str = \",\".join(list)\n",
    "       \n",
    "        h_word_list.append(list_str)\n",
    "    return h_word_list\n",
    "    # print(h_word_list)\n",
    "    # len(techworld_h_word_list)\n",
    "\n",
    "techworld_h_word_list = get_title_keywords(df_techworld)"
   ]
  },
  {
   "cell_type": "markdown",
   "id": "ddb7331f-7b84-4df7-b5ad-552b640e75c9",
   "metadata": {},
   "source": [
    "## 해당 리스트 목록을 새로운 컬럼으로 추가"
   ]
  },
  {
   "cell_type": "code",
   "execution_count": 12,
   "id": "a64e726f-d066-4a18-bdf1-84e66a10a0ea",
   "metadata": {},
   "outputs": [
    {
     "data": {
      "text/plain": [
       "0       티맥스,티베로,인텔,코리아,비즈니스,연속성,혁신,전략,웨비,개최\n",
       "1                     무하,관광,재단,서류,평가,프리즘,제공\n",
       "2                            뤼튼,아시아,컨퍼런스,개최\n",
       "3                       한국,레노버,세대,요가,신제품,출시\n",
       "4                      롯데,리스,적용,유통,물류,혁신,가속\n",
       "                       ...                 \n",
       "1780               메타,버스,대감,국내외,게임,시장,진입,활발\n",
       "1781              코난테크놀로지,스마트,테크,코리아,전시회,참가\n",
       "1782             링글,국제,저명,학회,기반,맞춤,학습,기술,발표\n",
       "1783                                프로세서,출시\n",
       "1784               로옴,산업,전력,효율,대화,신간,전자책,발간\n",
       "Name: news_key, Length: 1785, dtype: object"
      ]
     },
     "execution_count": 12,
     "metadata": {},
     "output_type": "execute_result"
    }
   ],
   "source": [
    "df_techworld['news_key'] = techworld_h_word_list\n",
    "df_techworld['news_key']"
   ]
  },
  {
   "cell_type": "markdown",
   "id": "b10adc74-0c82-47e0-be97-abeb3187cd94",
   "metadata": {},
   "source": [
    "## 1-2 news_text_sm에서 키워드 추출하기"
   ]
  },
  {
   "cell_type": "code",
   "execution_count": 13,
   "id": "f720c4ec-3a04-4212-860c-c43e3a6a16bd",
   "metadata": {},
   "outputs": [],
   "source": [
    "# 모듈화\n",
    "def get_text_keywords(df):\n",
    "    # 컬럼 'news_title' 가져오기 \n",
    "    rdr = df['news_text_sm'] \n",
    "    \n",
    "    # Okt 객체 선언\n",
    "    okt = Okt()\n",
    "    ###  불용어 빼기\n",
    "    # 불용어 파일 읽기\n",
    "    stop_words = []\n",
    "    with open('../data_analysis_test/불용.txt', 'r', encoding='utf-8') as file:\n",
    "       stop_words = file.read().splitlines()\n",
    "    \n",
    "    h_word_list = []\n",
    "    for w_bundle in rdr:\n",
    "      # print(okt.nouns(w_bundle))\n",
    "        list = okt.nouns(w_bundle)\n",
    "        # 특수문자 제거\n",
    "        tokens = \",\".join(list)\n",
    "        tokens = re.sub('[\\{\\}\\[\\]\\/?.;:|\\)*~`!^\\-_+<>@\\#$%&\\\\\\=\\(\\'\\\"]', '', tokens)\n",
    "        list = tokens.split(\",\")\n",
    "        # 한글자인 명사, ',' 빼기 (예외:웹,앱,폰,챗)\n",
    "        for i,v in enumerate(list):\n",
    "            if len(v) < 2 and (v != '웹' and v != '앱' and v != '폰' and v != '챗'):\n",
    "                list.pop(i)\n",
    "            elif v == ',':\n",
    "                list.pop(i)\n",
    "            # 불용어 제거\n",
    "            elif i in stop_words:\n",
    "                list.pop(i)\n",
    "        list_str = \",\".join(list)\n",
    "       \n",
    "        h_word_list.append(list_str)\n",
    "    return h_word_list\n",
    "    # print(h_word_list)\n",
    "    # len(techworld_h_word_list)\n",
    "\n",
    "techworld_txt_word_list = get_title_keywords(df_techworld)\n"
   ]
  },
  {
   "cell_type": "code",
   "execution_count": 14,
   "id": "c04e91ee-2a0f-4b16-9d59-993e9248670a",
   "metadata": {},
   "outputs": [
    {
     "data": {
      "text/plain": [
       "0       티맥스,티베로,인텔,코리아,비즈니스,연속성,혁신,전략,웨비,개최\n",
       "1                     무하,관광,재단,서류,평가,프리즘,제공\n",
       "2                            뤼튼,아시아,컨퍼런스,개최\n",
       "3                       한국,레노버,세대,요가,신제품,출시\n",
       "4                      롯데,리스,적용,유통,물류,혁신,가속\n",
       "                       ...                 \n",
       "1780               메타,버스,대감,국내외,게임,시장,진입,활발\n",
       "1781              코난테크놀로지,스마트,테크,코리아,전시회,참가\n",
       "1782             링글,국제,저명,학회,기반,맞춤,학습,기술,발표\n",
       "1783                                프로세서,출시\n",
       "1784               로옴,산업,전력,효율,대화,신간,전자책,발간\n",
       "Name: news_txt_key, Length: 1785, dtype: object"
      ]
     },
     "execution_count": 14,
     "metadata": {},
     "output_type": "execute_result"
    }
   ],
   "source": [
    "df_techworld['news_txt_key'] = techworld_txt_word_list\n",
    "df_techworld['news_txt_key']"
   ]
  },
  {
   "cell_type": "code",
   "execution_count": 15,
   "id": "1e070f09-daf5-4f0f-bc88-6697a8992fe5",
   "metadata": {},
   "outputs": [],
   "source": [
    "# df_techworld"
   ]
  },
  {
   "cell_type": "markdown",
   "id": "c2021194-b666-48c1-8768-81e0ea05f694",
   "metadata": {},
   "source": [
    "### 'news_key', 'news_txt_key' 값 합치기"
   ]
  },
  {
   "cell_type": "code",
   "execution_count": 16,
   "id": "d600dd2d-7210-43d1-99c7-a2a57f492cdd",
   "metadata": {
    "scrolled": true
   },
   "outputs": [
    {
     "name": "stdout",
     "output_type": "stream",
     "text": [
      "             news_date                                news_title  \\\n",
      "0     2023-05-30 16:58     티맥스티베로-인텔코리아, ‘비즈니스 연속성 혁신 전략’ 웨비나 개최   \n",
      "1     2023-05-25 09:46             무하유, 서울관광재단에 AI 서류평가 ‘프리즘’ 제공   \n",
      "2     2023-05-25 09:26       뤼튼, 아시아 생성AI 컨퍼런스 ‘GAA 2023’ 31일 개최   \n",
      "3     2023-05-30 09:23                   한국레노버, 8세대 요가 신제품 3종 출시   \n",
      "4     2023-05-30 09:14          KT, 롯데온 AI ‘리스포’ 적용…유통 물류 혁신 가속화   \n",
      "...                ...                                       ...   \n",
      "1780  2022-06-07 10:54              메타버스 기대감 UP, 국내외 게임사 시장진입 활발   \n",
      "1781  2022-06-07 09:29          코난테크놀로지, ’제11회 스마트테크 코리아’ 전시회 참가   \n",
      "1782  2022-06-03 17:15          링글, 국제 저명 학회서 AI 기반 맞춤형 학습 기술 발표   \n",
      "1783  2022-06-03 17:15                   TI, Sitara AM62 프로세서 출시   \n",
      "1784  2022-06-03 17:15  마우저, 로옴과 산업용 IoT 전력 효율 극대화를 위한 신간 전자책 발간   \n",
      "\n",
      "                                           news_text_sm  \\\n",
      "0     DBMS 전문 기업 티맥스티베로가 내달 1일에 ‘비즈니스 연속성 왜 혁신이 필요한가...   \n",
      "1     실용 인공지능(AI) 기술 기업 무하유가 자사 AI 서류평가 서비스 '프리즘'을 서...   \n",
      "2     올인원 AI(인공지능) 플랫폼 ‘뤼튼테크놀로지스(뤼튼)’가 오는 31일 그랜드 인터...   \n",
      "3     한국레노버가 콘텐츠 크리에이터를 위한 뛰어난 성능과 다양한 기능 휴대성을 갖춘 프리...   \n",
      "4     KT가 롯데그룹의 e커머스 플랫폼인 롯데온과 손잡고 인공지능(AI)과 빅데이터 기반...   \n",
      "...                                                 ...   \n",
      "1780  국내외 게임사가 메타버스 시장 진입에 속도를 내고 있다. 개발 경쟁력을 무기로 경쟁...   \n",
      "1781  인공지능 소프트웨어 전문기업 코난테크놀로지(KONAN TECHNOLOGY)가 6월 ...   \n",
      "1782  링글이 학습자 성취도를 인공지능(AI)이 정교하게 평가하는 시스템을 개발하고 하반기...   \n",
      "1783  텍사스 인스트루먼트(TI)는 엣지 AI에 대한 접근성을 높이고 전력 소모량은 절반으...   \n",
      "1784  마우저 일렉트로닉스는 로옴 주식회사와 공동으로 산업용 사물 인터넷(IoT) 애플리케...   \n",
      "\n",
      "                                                 url_in news_writer  \\\n",
      "0     https://www.epnc.co.kr/news/articleView.html?i...      양승갑 기자   \n",
      "1     https://www.epnc.co.kr/news/articleView.html?i...      양승갑 기자   \n",
      "2     https://www.epnc.co.kr/news/articleView.html?i...      양승갑 기자   \n",
      "3     https://www.epnc.co.kr/news/articleView.html?i...      김창수 기자   \n",
      "4     https://www.epnc.co.kr/news/articleView.html?i...      양승갑 기자   \n",
      "...                                                 ...         ...   \n",
      "1780  https://www.epnc.co.kr/news/articleView.html?i...      이혜진 기자   \n",
      "1781  https://www.epnc.co.kr/news/articleView.html?i...      정은상 기자   \n",
      "1782  https://www.epnc.co.kr/news/articleView.html?i...      조명의 기자   \n",
      "1783  https://www.epnc.co.kr/news/articleView.html?i...      장민주 기자   \n",
      "1784  https://www.epnc.co.kr/news/articleView.html?i...      장민주 기자   \n",
      "\n",
      "     tags_string                                         thumb_addr  \\\n",
      "0                 https://cdn.epnc.co.kr/news/thumbnail/202305/2...   \n",
      "1                 https://cdn.epnc.co.kr/news/thumbnail/202305/2...   \n",
      "2                 https://cdn.epnc.co.kr/news/thumbnail/202305/2...   \n",
      "3                 https://cdn.epnc.co.kr/news/thumbnail/202305/2...   \n",
      "4                 https://cdn.epnc.co.kr/news/thumbnail/202305/2...   \n",
      "...          ...                                                ...   \n",
      "1780              https://cdn.epnc.co.kr/news/thumbnail/202206/2...   \n",
      "1781              https://cdn.epnc.co.kr/news/thumbnail/202206/2...   \n",
      "1782              https://cdn.epnc.co.kr/news/thumbnail/202206/2...   \n",
      "1783              https://cdn.epnc.co.kr/news/thumbnail/202206/2...   \n",
      "1784              https://cdn.epnc.co.kr/news/thumbnail/202206/2...   \n",
      "\n",
      "      news_site                             news_key  \\\n",
      "0     TechWorld  티맥스,티베로,인텔,코리아,비즈니스,연속성,혁신,전략,웨비,개최   \n",
      "1     TechWorld                무하,관광,재단,서류,평가,프리즘,제공   \n",
      "2     TechWorld                       뤼튼,아시아,컨퍼런스,개최   \n",
      "3     TechWorld                  한국,레노버,세대,요가,신제품,출시   \n",
      "4     TechWorld                 롯데,리스,적용,유통,물류,혁신,가속   \n",
      "...         ...                                  ...   \n",
      "1780  TechWorld             메타,버스,대감,국내외,게임,시장,진입,활발   \n",
      "1781  TechWorld            코난테크놀로지,스마트,테크,코리아,전시회,참가   \n",
      "1782  TechWorld           링글,국제,저명,학회,기반,맞춤,학습,기술,발표   \n",
      "1783  TechWorld                              프로세서,출시   \n",
      "1784  TechWorld             로옴,산업,전력,효율,대화,신간,전자책,발간   \n",
      "\n",
      "                             news_txt_key  \\\n",
      "0     티맥스,티베로,인텔,코리아,비즈니스,연속성,혁신,전략,웨비,개최   \n",
      "1                   무하,관광,재단,서류,평가,프리즘,제공   \n",
      "2                          뤼튼,아시아,컨퍼런스,개최   \n",
      "3                     한국,레노버,세대,요가,신제품,출시   \n",
      "4                    롯데,리스,적용,유통,물류,혁신,가속   \n",
      "...                                   ...   \n",
      "1780             메타,버스,대감,국내외,게임,시장,진입,활발   \n",
      "1781            코난테크놀로지,스마트,테크,코리아,전시회,참가   \n",
      "1782           링글,국제,저명,학회,기반,맞춤,학습,기술,발표   \n",
      "1783                              프로세서,출시   \n",
      "1784             로옴,산업,전력,효율,대화,신간,전자책,발간   \n",
      "\n",
      "                                         total_keywords  \n",
      "0     티맥스,티베로,인텔,코리아,비즈니스,연속성,혁신,전략,웨비,개최,티맥스,티베로,인텔...  \n",
      "1           무하,관광,재단,서류,평가,프리즘,제공,무하,관광,재단,서류,평가,프리즘,제공  \n",
      "2                         뤼튼,아시아,컨퍼런스,개최,뤼튼,아시아,컨퍼런스,개최  \n",
      "3               한국,레노버,세대,요가,신제품,출시,한국,레노버,세대,요가,신제품,출시  \n",
      "4             롯데,리스,적용,유통,물류,혁신,가속,롯데,리스,적용,유통,물류,혁신,가속  \n",
      "...                                                 ...  \n",
      "1780  메타,버스,대감,국내외,게임,시장,진입,활발,메타,버스,대감,국내외,게임,시장,진입,활발  \n",
      "1781  코난테크놀로지,스마트,테크,코리아,전시회,참가,코난테크놀로지,스마트,테크,코리아,전...  \n",
      "1782  링글,국제,저명,학회,기반,맞춤,학습,기술,발표,링글,국제,저명,학회,기반,맞춤,학...  \n",
      "1783                                    프로세서,출시,프로세서,출시  \n",
      "1784  로옴,산업,전력,효율,대화,신간,전자책,발간,로옴,산업,전력,효율,대화,신간,전자책,발간  \n",
      "\n",
      "[1785 rows x 11 columns]\n"
     ]
    }
   ],
   "source": [
    "df_techworld['total_keywords'] = df_techworld[['news_key', 'news_txt_key']].apply(','.join, axis=1)\n",
    "print(df_techworld)"
   ]
  },
  {
   "cell_type": "markdown",
   "id": "a5f6820d-8b0e-4688-af62-30f7080ad881",
   "metadata": {},
   "source": [
    "### 중복 키워드 처리"
   ]
  },
  {
   "cell_type": "code",
   "execution_count": 17,
   "id": "f5416fe7-e6e0-4755-9e8a-ec40faccc79d",
   "metadata": {},
   "outputs": [],
   "source": [
    "# from collections import OrderedDict\n",
    "\n",
    "# list = '티맥스,티베로,인텔,코리아,비즈니스,연속성,혁신,전략,웨비,개최,티맥스,티베로,인텔,코리아,비즈니스,연속성,혁신,전략,웨비,개최'\n",
    "# list_sep = list.split(\",\")\n",
    "# list_sep\n",
    "\n",
    "# a = \" \".join(OrderedDict.fromkeys(list_sep))\n",
    "# print(a)\n",
    "\n",
    "\n"
   ]
  },
  {
   "cell_type": "code",
   "execution_count": 18,
   "id": "2eadadd5-ca8a-4b73-95ec-b12142f75c6e",
   "metadata": {},
   "outputs": [],
   "source": [
    "from collections import OrderedDict\n",
    "\n",
    "t_keyword_list = []\n",
    "\n",
    "for keys in df_techworld['total_keywords']:\n",
    "    # print([keys]) # 일단 전부 ,로 split()해줘야 단어끼리로 분리됨\n",
    "    keys_list = keys.split(\",\")\n",
    "    key_list_str = ','.join(OrderedDict.fromkeys(keys_list))\n",
    "    # print(key_list_str)\n",
    "    # 2차원 리스트 만들기\n",
    "    key_list_str_list = key_list_str.split(\",\")\n",
    "    t_keyword_list.append(key_list_str_list)\n",
    "\n",
    "# t_keyword_list"
   ]
  },
  {
   "cell_type": "markdown",
   "id": "bc0f0d24-640e-46c9-9bca-e926e5a65ed3",
   "metadata": {},
   "source": [
    "### 'news_key', 'news_text_key' 컬럼 삭제"
   ]
  },
  {
   "cell_type": "code",
   "execution_count": 19,
   "id": "0f13dbbc-d97f-4b6f-8885-aff59dfc16c7",
   "metadata": {},
   "outputs": [],
   "source": [
    "df_techworld.drop(['news_key', 'news_txt_key'], axis=1, inplace=True)"
   ]
  },
  {
   "cell_type": "code",
   "execution_count": 20,
   "id": "06e98987-3490-4b75-94bc-7d5e265bcf27",
   "metadata": {},
   "outputs": [],
   "source": [
    "# df_techworld"
   ]
  },
  {
   "cell_type": "markdown",
   "id": "23276d64-6897-4c6c-b7f7-e9c1ee6de187",
   "metadata": {},
   "source": [
    "## df_techworld csv 파일에 반영\n"
   ]
  },
  {
   "cell_type": "code",
   "execution_count": 21,
   "id": "4b02f272-8edb-41bf-bea1-28c13c479c3e",
   "metadata": {},
   "outputs": [],
   "source": [
    "df_techworld.to_csv(\"../data_crawling_D/after_keywords/news_techworld_k_t.csv\", mode='w')"
   ]
  },
  {
   "cell_type": "markdown",
   "id": "14f56774-6bf2-44d0-a7cf-c0cbc63bcf0c",
   "metadata": {},
   "source": [
    "# 2. 신뢰도 평가 : news_titlw, news_text_sm의 데이터를 KRWORDRANK로 추출"
   ]
  },
  {
   "cell_type": "code",
   "execution_count": 22,
   "id": "8fbab27b-8286-47cc-b68d-5cfd3226ccc3",
   "metadata": {},
   "outputs": [],
   "source": [
    "import pandas as pd\n",
    "import numpy as np"
   ]
  },
  {
   "cell_type": "code",
   "execution_count": 23,
   "id": "da106941-a62b-437d-a715-8f42eee22a9e",
   "metadata": {},
   "outputs": [],
   "source": [
    "# 먼저 news_text_sm 컬럼의 값들을 뭉쳐서 하나의 string(각 요소는 '\\n'로 나누기)\n",
    "# 으로 통합\n",
    "import csv # sql_cwn_data에서 갖고 오기\n",
    "\n",
    "f = open(\"../data_crawling_D/after_keywords/news_techworld_k_t.csv\", \"r\", encoding='utf8')\n",
    "reader = csv.reader(f)\n",
    "next(reader)\n",
    "# print(reader)\n",
    "data = []\n",
    "for row in reader:\n",
    "    data.append(row)\n",
    "    # print(row)\n",
    "f.close()\n",
    "\n"
   ]
  },
  {
   "cell_type": "code",
   "execution_count": 24,
   "id": "e99c03ac-dd3d-4323-8782-928d70e33e43",
   "metadata": {},
   "outputs": [],
   "source": [
    "# data"
   ]
  },
  {
   "cell_type": "code",
   "execution_count": 25,
   "id": "e76ad87d-e580-4af8-b17f-2e0f4869c06e",
   "metadata": {},
   "outputs": [
    {
     "data": {
      "text/html": [
       "<div>\n",
       "<style scoped>\n",
       "    .dataframe tbody tr th:only-of-type {\n",
       "        vertical-align: middle;\n",
       "    }\n",
       "\n",
       "    .dataframe tbody tr th {\n",
       "        vertical-align: top;\n",
       "    }\n",
       "\n",
       "    .dataframe thead th {\n",
       "        text-align: right;\n",
       "    }\n",
       "</style>\n",
       "<table border=\"1\" class=\"dataframe\">\n",
       "  <thead>\n",
       "    <tr style=\"text-align: right;\">\n",
       "      <th></th>\n",
       "      <th>news_date</th>\n",
       "      <th>news_title</th>\n",
       "      <th>news_text_sm</th>\n",
       "      <th>url_in</th>\n",
       "      <th>news_writer</th>\n",
       "      <th>tags_string</th>\n",
       "      <th>thumb_addr</th>\n",
       "      <th>news_site</th>\n",
       "      <th>total_keywords</th>\n",
       "    </tr>\n",
       "  </thead>\n",
       "  <tbody>\n",
       "    <tr>\n",
       "      <th>0</th>\n",
       "      <td>2023-05-30 16:58</td>\n",
       "      <td>티맥스티베로-인텔코리아, ‘비즈니스 연속성 혁신 전략’ 웨비나 개최</td>\n",
       "      <td>DBMS 전문 기업 티맥스티베로가 내달 1일에 ‘비즈니스 연속성 왜 혁신이 필요한가...</td>\n",
       "      <td>https://www.epnc.co.kr/news/articleView.html?i...</td>\n",
       "      <td>양승갑 기자</td>\n",
       "      <td></td>\n",
       "      <td>https://cdn.epnc.co.kr/news/thumbnail/202305/2...</td>\n",
       "      <td>TechWorld</td>\n",
       "      <td>티맥스,티베로,인텔,코리아,비즈니스,연속성,혁신,전략,웨비,개최,티맥스,티베로,인텔...</td>\n",
       "    </tr>\n",
       "    <tr>\n",
       "      <th>1</th>\n",
       "      <td>2023-05-25 09:46</td>\n",
       "      <td>무하유, 서울관광재단에 AI 서류평가 ‘프리즘’ 제공</td>\n",
       "      <td>실용 인공지능(AI) 기술 기업 무하유가 자사 AI 서류평가 서비스 '프리즘'을 서...</td>\n",
       "      <td>https://www.epnc.co.kr/news/articleView.html?i...</td>\n",
       "      <td>양승갑 기자</td>\n",
       "      <td></td>\n",
       "      <td>https://cdn.epnc.co.kr/news/thumbnail/202305/2...</td>\n",
       "      <td>TechWorld</td>\n",
       "      <td>무하,관광,재단,서류,평가,프리즘,제공,무하,관광,재단,서류,평가,프리즘,제공</td>\n",
       "    </tr>\n",
       "    <tr>\n",
       "      <th>2</th>\n",
       "      <td>2023-05-25 09:26</td>\n",
       "      <td>뤼튼, 아시아 생성AI 컨퍼런스 ‘GAA 2023’ 31일 개최</td>\n",
       "      <td>올인원 AI(인공지능) 플랫폼 ‘뤼튼테크놀로지스(뤼튼)’가 오는 31일 그랜드 인터...</td>\n",
       "      <td>https://www.epnc.co.kr/news/articleView.html?i...</td>\n",
       "      <td>양승갑 기자</td>\n",
       "      <td></td>\n",
       "      <td>https://cdn.epnc.co.kr/news/thumbnail/202305/2...</td>\n",
       "      <td>TechWorld</td>\n",
       "      <td>뤼튼,아시아,컨퍼런스,개최,뤼튼,아시아,컨퍼런스,개최</td>\n",
       "    </tr>\n",
       "    <tr>\n",
       "      <th>3</th>\n",
       "      <td>2023-05-30 09:23</td>\n",
       "      <td>한국레노버, 8세대 요가 신제품 3종 출시</td>\n",
       "      <td>한국레노버가 콘텐츠 크리에이터를 위한 뛰어난 성능과 다양한 기능 휴대성을 갖춘 프리...</td>\n",
       "      <td>https://www.epnc.co.kr/news/articleView.html?i...</td>\n",
       "      <td>김창수 기자</td>\n",
       "      <td></td>\n",
       "      <td>https://cdn.epnc.co.kr/news/thumbnail/202305/2...</td>\n",
       "      <td>TechWorld</td>\n",
       "      <td>한국,레노버,세대,요가,신제품,출시,한국,레노버,세대,요가,신제품,출시</td>\n",
       "    </tr>\n",
       "    <tr>\n",
       "      <th>4</th>\n",
       "      <td>2023-05-30 09:14</td>\n",
       "      <td>KT, 롯데온 AI ‘리스포’ 적용…유통 물류 혁신 가속화</td>\n",
       "      <td>KT가 롯데그룹의 e커머스 플랫폼인 롯데온과 손잡고 인공지능(AI)과 빅데이터 기반...</td>\n",
       "      <td>https://www.epnc.co.kr/news/articleView.html?i...</td>\n",
       "      <td>양승갑 기자</td>\n",
       "      <td></td>\n",
       "      <td>https://cdn.epnc.co.kr/news/thumbnail/202305/2...</td>\n",
       "      <td>TechWorld</td>\n",
       "      <td>롯데,리스,적용,유통,물류,혁신,가속,롯데,리스,적용,유통,물류,혁신,가속</td>\n",
       "    </tr>\n",
       "    <tr>\n",
       "      <th>...</th>\n",
       "      <td>...</td>\n",
       "      <td>...</td>\n",
       "      <td>...</td>\n",
       "      <td>...</td>\n",
       "      <td>...</td>\n",
       "      <td>...</td>\n",
       "      <td>...</td>\n",
       "      <td>...</td>\n",
       "      <td>...</td>\n",
       "    </tr>\n",
       "    <tr>\n",
       "      <th>1780</th>\n",
       "      <td>2022-06-07 10:54</td>\n",
       "      <td>메타버스 기대감 UP, 국내외 게임사 시장진입 활발</td>\n",
       "      <td>국내외 게임사가 메타버스 시장 진입에 속도를 내고 있다. 개발 경쟁력을 무기로 경쟁...</td>\n",
       "      <td>https://www.epnc.co.kr/news/articleView.html?i...</td>\n",
       "      <td>이혜진 기자</td>\n",
       "      <td></td>\n",
       "      <td>https://cdn.epnc.co.kr/news/thumbnail/202206/2...</td>\n",
       "      <td>TechWorld</td>\n",
       "      <td>메타,버스,대감,국내외,게임,시장,진입,활발,메타,버스,대감,국내외,게임,시장,진입,활발</td>\n",
       "    </tr>\n",
       "    <tr>\n",
       "      <th>1781</th>\n",
       "      <td>2022-06-07 09:29</td>\n",
       "      <td>코난테크놀로지, ’제11회 스마트테크 코리아’ 전시회 참가</td>\n",
       "      <td>인공지능 소프트웨어 전문기업 코난테크놀로지(KONAN TECHNOLOGY)가 6월 ...</td>\n",
       "      <td>https://www.epnc.co.kr/news/articleView.html?i...</td>\n",
       "      <td>정은상 기자</td>\n",
       "      <td></td>\n",
       "      <td>https://cdn.epnc.co.kr/news/thumbnail/202206/2...</td>\n",
       "      <td>TechWorld</td>\n",
       "      <td>코난테크놀로지,스마트,테크,코리아,전시회,참가,코난테크놀로지,스마트,테크,코리아,전...</td>\n",
       "    </tr>\n",
       "    <tr>\n",
       "      <th>1782</th>\n",
       "      <td>2022-06-03 17:15</td>\n",
       "      <td>링글, 국제 저명 학회서 AI 기반 맞춤형 학습 기술 발표</td>\n",
       "      <td>링글이 학습자 성취도를 인공지능(AI)이 정교하게 평가하는 시스템을 개발하고 하반기...</td>\n",
       "      <td>https://www.epnc.co.kr/news/articleView.html?i...</td>\n",
       "      <td>조명의 기자</td>\n",
       "      <td></td>\n",
       "      <td>https://cdn.epnc.co.kr/news/thumbnail/202206/2...</td>\n",
       "      <td>TechWorld</td>\n",
       "      <td>링글,국제,저명,학회,기반,맞춤,학습,기술,발표,링글,국제,저명,학회,기반,맞춤,학...</td>\n",
       "    </tr>\n",
       "    <tr>\n",
       "      <th>1783</th>\n",
       "      <td>2022-06-03 17:15</td>\n",
       "      <td>TI, Sitara AM62 프로세서 출시</td>\n",
       "      <td>텍사스 인스트루먼트(TI)는 엣지 AI에 대한 접근성을 높이고 전력 소모량은 절반으...</td>\n",
       "      <td>https://www.epnc.co.kr/news/articleView.html?i...</td>\n",
       "      <td>장민주 기자</td>\n",
       "      <td></td>\n",
       "      <td>https://cdn.epnc.co.kr/news/thumbnail/202206/2...</td>\n",
       "      <td>TechWorld</td>\n",
       "      <td>프로세서,출시,프로세서,출시</td>\n",
       "    </tr>\n",
       "    <tr>\n",
       "      <th>1784</th>\n",
       "      <td>2022-06-03 17:15</td>\n",
       "      <td>마우저, 로옴과 산업용 IoT 전력 효율 극대화를 위한 신간 전자책 발간</td>\n",
       "      <td>마우저 일렉트로닉스는 로옴 주식회사와 공동으로 산업용 사물 인터넷(IoT) 애플리케...</td>\n",
       "      <td>https://www.epnc.co.kr/news/articleView.html?i...</td>\n",
       "      <td>장민주 기자</td>\n",
       "      <td></td>\n",
       "      <td>https://cdn.epnc.co.kr/news/thumbnail/202206/2...</td>\n",
       "      <td>TechWorld</td>\n",
       "      <td>로옴,산업,전력,효율,대화,신간,전자책,발간,로옴,산업,전력,효율,대화,신간,전자책,발간</td>\n",
       "    </tr>\n",
       "  </tbody>\n",
       "</table>\n",
       "<p>1785 rows × 9 columns</p>\n",
       "</div>"
      ],
      "text/plain": [
       "             news_date                                news_title  \\\n",
       "0     2023-05-30 16:58     티맥스티베로-인텔코리아, ‘비즈니스 연속성 혁신 전략’ 웨비나 개최   \n",
       "1     2023-05-25 09:46             무하유, 서울관광재단에 AI 서류평가 ‘프리즘’ 제공   \n",
       "2     2023-05-25 09:26       뤼튼, 아시아 생성AI 컨퍼런스 ‘GAA 2023’ 31일 개최   \n",
       "3     2023-05-30 09:23                   한국레노버, 8세대 요가 신제품 3종 출시   \n",
       "4     2023-05-30 09:14          KT, 롯데온 AI ‘리스포’ 적용…유통 물류 혁신 가속화   \n",
       "...                ...                                       ...   \n",
       "1780  2022-06-07 10:54              메타버스 기대감 UP, 국내외 게임사 시장진입 활발   \n",
       "1781  2022-06-07 09:29          코난테크놀로지, ’제11회 스마트테크 코리아’ 전시회 참가   \n",
       "1782  2022-06-03 17:15          링글, 국제 저명 학회서 AI 기반 맞춤형 학습 기술 발표   \n",
       "1783  2022-06-03 17:15                   TI, Sitara AM62 프로세서 출시   \n",
       "1784  2022-06-03 17:15  마우저, 로옴과 산업용 IoT 전력 효율 극대화를 위한 신간 전자책 발간   \n",
       "\n",
       "                                           news_text_sm  \\\n",
       "0     DBMS 전문 기업 티맥스티베로가 내달 1일에 ‘비즈니스 연속성 왜 혁신이 필요한가...   \n",
       "1     실용 인공지능(AI) 기술 기업 무하유가 자사 AI 서류평가 서비스 '프리즘'을 서...   \n",
       "2     올인원 AI(인공지능) 플랫폼 ‘뤼튼테크놀로지스(뤼튼)’가 오는 31일 그랜드 인터...   \n",
       "3     한국레노버가 콘텐츠 크리에이터를 위한 뛰어난 성능과 다양한 기능 휴대성을 갖춘 프리...   \n",
       "4     KT가 롯데그룹의 e커머스 플랫폼인 롯데온과 손잡고 인공지능(AI)과 빅데이터 기반...   \n",
       "...                                                 ...   \n",
       "1780  국내외 게임사가 메타버스 시장 진입에 속도를 내고 있다. 개발 경쟁력을 무기로 경쟁...   \n",
       "1781  인공지능 소프트웨어 전문기업 코난테크놀로지(KONAN TECHNOLOGY)가 6월 ...   \n",
       "1782  링글이 학습자 성취도를 인공지능(AI)이 정교하게 평가하는 시스템을 개발하고 하반기...   \n",
       "1783  텍사스 인스트루먼트(TI)는 엣지 AI에 대한 접근성을 높이고 전력 소모량은 절반으...   \n",
       "1784  마우저 일렉트로닉스는 로옴 주식회사와 공동으로 산업용 사물 인터넷(IoT) 애플리케...   \n",
       "\n",
       "                                                 url_in news_writer  \\\n",
       "0     https://www.epnc.co.kr/news/articleView.html?i...      양승갑 기자   \n",
       "1     https://www.epnc.co.kr/news/articleView.html?i...      양승갑 기자   \n",
       "2     https://www.epnc.co.kr/news/articleView.html?i...      양승갑 기자   \n",
       "3     https://www.epnc.co.kr/news/articleView.html?i...      김창수 기자   \n",
       "4     https://www.epnc.co.kr/news/articleView.html?i...      양승갑 기자   \n",
       "...                                                 ...         ...   \n",
       "1780  https://www.epnc.co.kr/news/articleView.html?i...      이혜진 기자   \n",
       "1781  https://www.epnc.co.kr/news/articleView.html?i...      정은상 기자   \n",
       "1782  https://www.epnc.co.kr/news/articleView.html?i...      조명의 기자   \n",
       "1783  https://www.epnc.co.kr/news/articleView.html?i...      장민주 기자   \n",
       "1784  https://www.epnc.co.kr/news/articleView.html?i...      장민주 기자   \n",
       "\n",
       "     tags_string                                         thumb_addr  \\\n",
       "0                 https://cdn.epnc.co.kr/news/thumbnail/202305/2...   \n",
       "1                 https://cdn.epnc.co.kr/news/thumbnail/202305/2...   \n",
       "2                 https://cdn.epnc.co.kr/news/thumbnail/202305/2...   \n",
       "3                 https://cdn.epnc.co.kr/news/thumbnail/202305/2...   \n",
       "4                 https://cdn.epnc.co.kr/news/thumbnail/202305/2...   \n",
       "...          ...                                                ...   \n",
       "1780              https://cdn.epnc.co.kr/news/thumbnail/202206/2...   \n",
       "1781              https://cdn.epnc.co.kr/news/thumbnail/202206/2...   \n",
       "1782              https://cdn.epnc.co.kr/news/thumbnail/202206/2...   \n",
       "1783              https://cdn.epnc.co.kr/news/thumbnail/202206/2...   \n",
       "1784              https://cdn.epnc.co.kr/news/thumbnail/202206/2...   \n",
       "\n",
       "      news_site                                     total_keywords  \n",
       "0     TechWorld  티맥스,티베로,인텔,코리아,비즈니스,연속성,혁신,전략,웨비,개최,티맥스,티베로,인텔...  \n",
       "1     TechWorld        무하,관광,재단,서류,평가,프리즘,제공,무하,관광,재단,서류,평가,프리즘,제공  \n",
       "2     TechWorld                      뤼튼,아시아,컨퍼런스,개최,뤼튼,아시아,컨퍼런스,개최  \n",
       "3     TechWorld            한국,레노버,세대,요가,신제품,출시,한국,레노버,세대,요가,신제품,출시  \n",
       "4     TechWorld          롯데,리스,적용,유통,물류,혁신,가속,롯데,리스,적용,유통,물류,혁신,가속  \n",
       "...         ...                                                ...  \n",
       "1780  TechWorld  메타,버스,대감,국내외,게임,시장,진입,활발,메타,버스,대감,국내외,게임,시장,진입,활발  \n",
       "1781  TechWorld  코난테크놀로지,스마트,테크,코리아,전시회,참가,코난테크놀로지,스마트,테크,코리아,전...  \n",
       "1782  TechWorld  링글,국제,저명,학회,기반,맞춤,학습,기술,발표,링글,국제,저명,학회,기반,맞춤,학...  \n",
       "1783  TechWorld                                    프로세서,출시,프로세서,출시  \n",
       "1784  TechWorld  로옴,산업,전력,효율,대화,신간,전자책,발간,로옴,산업,전력,효율,대화,신간,전자책,발간  \n",
       "\n",
       "[1785 rows x 9 columns]"
      ]
     },
     "execution_count": 25,
     "metadata": {},
     "output_type": "execute_result"
    }
   ],
   "source": [
    "# dataframe으로 만들기\n",
    "df_techworld = pd.DataFrame(data=data, columns=['idx','news_date', 'news_title', 'news_text_sm', 'url_in', 'news_writer', 'tags_string', 'thumb_addr', 'news_site', 'total_keywords'])  \n",
    "# idx (인덱스) 제거\n",
    "df_techworld = df_techworld[['news_date', 'news_title', 'news_text_sm', 'url_in', 'news_writer', 'tags_string', 'thumb_addr', 'news_site','total_keywords']]\n",
    "df_techworld"
   ]
  },
  {
   "cell_type": "markdown",
   "id": "131358e0-b49c-42cb-94ab-060db3229ec3",
   "metadata": {},
   "source": [
    "## news_title과 news_text_sm를 합친 컬럼 생성하기"
   ]
  },
  {
   "cell_type": "code",
   "execution_count": 26,
   "id": "0a859535-ee92-4529-a05d-7359c05f4478",
   "metadata": {},
   "outputs": [],
   "source": [
    "df_techworld['title_n_text'] = df_techworld[['news_title', 'news_text_sm']].apply(','.join, axis=1)\n",
    "# df_techworld['title_n_text']\n"
   ]
  },
  {
   "cell_type": "code",
   "execution_count": 27,
   "id": "ae2690c0-d8e4-453c-9475-e9b53e86d312",
   "metadata": {},
   "outputs": [],
   "source": [
    "# 제목과 내용을 합친 str 컬럼을 news_date와 같이 엮어 df화\n",
    "df_techworld_dnt = df_techworld[['news_date', 'title_n_text']]\n",
    "# csv 파일로 저장하기\n",
    "df_techworld_dnt.to_csv(\"../data_analysis_test/test_data/techworld_dnt.txt\", mode='w', header=False, index=False, sep='\\t')"
   ]
  },
  {
   "cell_type": "code",
   "execution_count": 28,
   "id": "2f29a0d9-772c-43b2-935c-3e8b1fc898ac",
   "metadata": {},
   "outputs": [],
   "source": [
    "# df_cwn_date = df_cwn['news_date'].to_list()\n",
    "# df_cwn_text = df_cwn['news_text_sm'].to_list()\n",
    "# df_cwn_date_n_text = {}\n",
    "# for date, text in zip(df_cwn_date, df_cwn_text):\n",
    "#     df_cwn_date_n_text[date] = text\n",
    "                          \n",
    "# print('dict zip : ', df_cwn_date_n_text)\n",
    "\n",
    "# df_cwn_text"
   ]
  },
  {
   "cell_type": "code",
   "execution_count": 29,
   "id": "c2977acc-f193-4a63-a642-865785e821ca",
   "metadata": {},
   "outputs": [
    {
     "data": {
      "text/html": [
       "<div>\n",
       "<style scoped>\n",
       "    .dataframe tbody tr th:only-of-type {\n",
       "        vertical-align: middle;\n",
       "    }\n",
       "\n",
       "    .dataframe tbody tr th {\n",
       "        vertical-align: top;\n",
       "    }\n",
       "\n",
       "    .dataframe thead th {\n",
       "        text-align: right;\n",
       "    }\n",
       "</style>\n",
       "<table border=\"1\" class=\"dataframe\">\n",
       "  <thead>\n",
       "    <tr style=\"text-align: right;\">\n",
       "      <th></th>\n",
       "      <th>news_date</th>\n",
       "      <th>title_n_text</th>\n",
       "    </tr>\n",
       "  </thead>\n",
       "  <tbody>\n",
       "    <tr>\n",
       "      <th>0</th>\n",
       "      <td>2023-05-30 16:58</td>\n",
       "      <td>티맥스티베로-인텔코리아, ‘비즈니스 연속성 혁신 전략’ 웨비나 개최,DBMS 전문 ...</td>\n",
       "    </tr>\n",
       "    <tr>\n",
       "      <th>1</th>\n",
       "      <td>2023-05-25 09:46</td>\n",
       "      <td>무하유, 서울관광재단에 AI 서류평가 ‘프리즘’ 제공,실용 인공지능(AI) 기술 기...</td>\n",
       "    </tr>\n",
       "    <tr>\n",
       "      <th>2</th>\n",
       "      <td>2023-05-25 09:26</td>\n",
       "      <td>뤼튼, 아시아 생성AI 컨퍼런스 ‘GAA 2023’ 31일 개최,올인원 AI(인공지...</td>\n",
       "    </tr>\n",
       "    <tr>\n",
       "      <th>3</th>\n",
       "      <td>2023-05-30 09:23</td>\n",
       "      <td>한국레노버, 8세대 요가 신제품 3종 출시,한국레노버가 콘텐츠 크리에이터를 위한 뛰...</td>\n",
       "    </tr>\n",
       "    <tr>\n",
       "      <th>4</th>\n",
       "      <td>2023-05-30 09:14</td>\n",
       "      <td>KT, 롯데온 AI ‘리스포’ 적용…유통 물류 혁신 가속화,KT가 롯데그룹의 e커머...</td>\n",
       "    </tr>\n",
       "    <tr>\n",
       "      <th>...</th>\n",
       "      <td>...</td>\n",
       "      <td>...</td>\n",
       "    </tr>\n",
       "    <tr>\n",
       "      <th>1780</th>\n",
       "      <td>2022-06-07 10:54</td>\n",
       "      <td>메타버스 기대감 UP, 국내외 게임사 시장진입 활발,국내외 게임사가 메타버스 시장 ...</td>\n",
       "    </tr>\n",
       "    <tr>\n",
       "      <th>1781</th>\n",
       "      <td>2022-06-07 09:29</td>\n",
       "      <td>코난테크놀로지, ’제11회 스마트테크 코리아’ 전시회 참가,인공지능 소프트웨어 전문...</td>\n",
       "    </tr>\n",
       "    <tr>\n",
       "      <th>1782</th>\n",
       "      <td>2022-06-03 17:15</td>\n",
       "      <td>링글, 국제 저명 학회서 AI 기반 맞춤형 학습 기술 발표,링글이 학습자 성취도를 ...</td>\n",
       "    </tr>\n",
       "    <tr>\n",
       "      <th>1783</th>\n",
       "      <td>2022-06-03 17:15</td>\n",
       "      <td>TI, Sitara AM62 프로세서 출시,텍사스 인스트루먼트(TI)는 엣지 AI에...</td>\n",
       "    </tr>\n",
       "    <tr>\n",
       "      <th>1784</th>\n",
       "      <td>2022-06-03 17:15</td>\n",
       "      <td>마우저, 로옴과 산업용 IoT 전력 효율 극대화를 위한 신간 전자책 발간,마우저 일...</td>\n",
       "    </tr>\n",
       "  </tbody>\n",
       "</table>\n",
       "<p>1785 rows × 2 columns</p>\n",
       "</div>"
      ],
      "text/plain": [
       "             news_date                                       title_n_text\n",
       "0     2023-05-30 16:58  티맥스티베로-인텔코리아, ‘비즈니스 연속성 혁신 전략’ 웨비나 개최,DBMS 전문 ...\n",
       "1     2023-05-25 09:46  무하유, 서울관광재단에 AI 서류평가 ‘프리즘’ 제공,실용 인공지능(AI) 기술 기...\n",
       "2     2023-05-25 09:26  뤼튼, 아시아 생성AI 컨퍼런스 ‘GAA 2023’ 31일 개최,올인원 AI(인공지...\n",
       "3     2023-05-30 09:23  한국레노버, 8세대 요가 신제품 3종 출시,한국레노버가 콘텐츠 크리에이터를 위한 뛰...\n",
       "4     2023-05-30 09:14  KT, 롯데온 AI ‘리스포’ 적용…유통 물류 혁신 가속화,KT가 롯데그룹의 e커머...\n",
       "...                ...                                                ...\n",
       "1780  2022-06-07 10:54  메타버스 기대감 UP, 국내외 게임사 시장진입 활발,국내외 게임사가 메타버스 시장 ...\n",
       "1781  2022-06-07 09:29  코난테크놀로지, ’제11회 스마트테크 코리아’ 전시회 참가,인공지능 소프트웨어 전문...\n",
       "1782  2022-06-03 17:15  링글, 국제 저명 학회서 AI 기반 맞춤형 학습 기술 발표,링글이 학습자 성취도를 ...\n",
       "1783  2022-06-03 17:15  TI, Sitara AM62 프로세서 출시,텍사스 인스트루먼트(TI)는 엣지 AI에...\n",
       "1784  2022-06-03 17:15  마우저, 로옴과 산업용 IoT 전력 효율 극대화를 위한 신간 전자책 발간,마우저 일...\n",
       "\n",
       "[1785 rows x 2 columns]"
      ]
     },
     "execution_count": 29,
     "metadata": {},
     "output_type": "execute_result"
    }
   ],
   "source": [
    "df_techworld_dnt"
   ]
  },
  {
   "cell_type": "code",
   "execution_count": 30,
   "id": "96cd38c9-5aca-4a11-ad11-af821b8f10fe",
   "metadata": {},
   "outputs": [],
   "source": [
    "# f = open(\"../know_arc_pjt/data_crawling_D/data_sql_total_edited/total_news_t_202306221233.csv\", \"r\", encoding='utf8')\n",
    "# reader = csv.reader(f)\n",
    "\n",
    "# for row in reader:\n",
    "#     data = list(reader)\n",
    "# # print(data)\n",
    "# f.close()\n",
    "# # dataframe으로 만들기\n",
    "# df_total_t = pd.DataFrame(data=data, columns=['news_date', 'news_title', 'news_text_sm', 'url_in', 'news_writer', 'tags_string', 'thumb_addr', 'news_site'])  \n",
    "# df_total_t"
   ]
  },
  {
   "cell_type": "code",
   "execution_count": 31,
   "id": "c0e36c08-c1d9-45f5-8d04-6ef5822b392c",
   "metadata": {},
   "outputs": [],
   "source": [
    "# 날짜당 제목에서 추출한 키워드 목록\n",
    "def get_date_text(fname):\n",
    "    # 튜토리얼에서 이용하는 `fname` 파일은 영화평과 평점이 \\t 으로 구분된 two column tsv 파일입니다.\n",
    "    # 예시는 이 cell 의 output 을 참고하세요.\n",
    "    with open(fname, encoding='utf-8') as f:\n",
    "        docs = [doc.lower().replace('\\n','').split('\\t') for doc in f] \n",
    "        docs = [doc for doc in docs if len(doc) == 2]\n",
    "\n",
    "        if not docs:\n",
    "            return [], []\n",
    "        \n",
    "        dates, texts = zip(*docs)\n",
    "        return dates, texts\n",
    "\n",
    "# cwn.kr data (df_cwn_date_n_text)\n",
    "fname = '../data_analysis_test/test_data/techworld_dnt.txt'\n",
    "# 이걸로 \n",
    "dates, texts = get_date_text(fname)\n",
    "# dates = list(dates)\n",
    "# texts = list(texts)\n",
    "# 위쪽의 5개 출력하기\n",
    "# with open(fname, encoding=\"utf-8\") as f:\n",
    "#     for _ in range(5):\n",
    "#         print(next(f).strip())"
   ]
  },
  {
   "cell_type": "code",
   "execution_count": 32,
   "id": "57375b61-7422-4259-b100-507ba9c563c2",
   "metadata": {},
   "outputs": [],
   "source": [
    "# dates\n",
    "# texts"
   ]
  },
  {
   "cell_type": "code",
   "execution_count": 33,
   "id": "8dc5c41f-05db-4b91-9302-2c3101ff0212",
   "metadata": {},
   "outputs": [],
   "source": [
    "# KR-WordRank에 필요한 라이브러리\n",
    "import sys\n",
    "import re\n",
    "sys.path.append('../')\n",
    "from krwordrank.word import KRWordRank\n",
    "from krwordrank.hangle import normalize\n",
    "import krwordrank\n",
    "# print(krwordrank.__version__)"
   ]
  },
  {
   "cell_type": "markdown",
   "id": "703e52be-357d-4281-bfdf-e8d6d8971d8e",
   "metadata": {},
   "source": [
    "단어 추출에 영어/숫자를 포함할 예정이라면 normalize함수를 이용하여 텍스트를 normalize할 것"
   ]
  },
  {
   "cell_type": "code",
   "execution_count": 34,
   "id": "2540d651-6eb9-4ce9-9197-bf6c1299fe96",
   "metadata": {},
   "outputs": [],
   "source": [
    "with open('../data_analysis_test/test_data/techworld_dnt_norm.txt', 'w', encoding='utf-8') as f:\n",
    "    for date, text in zip(dates, texts):\n",
    "        text = normalize(text, english=True, number=True)\n",
    "        # 특수문자는 제거\n",
    "        text = re.sub(r\"[^\\uAC00-\\uD7A30-9a-zA-Z\\s]\", \"\", text)\n",
    "        f.write('%s\\t%s\\n' % (date, text))"
   ]
  },
  {
   "cell_type": "markdown",
   "id": "c36ff132-13e3-4978-8ffc-45d71a35110b",
   "metadata": {},
   "source": [
    "## 해당 데이터에서 핵심 키워드들을 뽑아보자"
   ]
  },
  {
   "cell_type": "code",
   "execution_count": 35,
   "id": "c970c486-d7d9-48a9-9eea-e593b5fb23ef",
   "metadata": {},
   "outputs": [],
   "source": [
    "# df_cwn_date_n_text\n",
    "fname = '../data_analysis_test/test_data/techworld_dnt_norm.txt'\n",
    "dates_n, texts_n = get_date_text(fname)\n",
    "# 여기까진 dates_n, texts_n이 서로 분리되어있음"
   ]
  },
  {
   "cell_type": "code",
   "execution_count": 36,
   "id": "93443fe9-820c-4108-a8df-53093bc79ee1",
   "metadata": {
    "scrolled": true
   },
   "outputs": [
    {
     "name": "stdout",
     "output_type": "stream",
     "text": [
      "scan vocabs ... \n",
      "num vocabs = 16643\n",
      "done = 10 Early stopped.\n"
     ]
    }
   ],
   "source": [
    "wordrank_extractor = KRWordRank(\n",
    "    min_count = 5, # 단어의 최소 출현 빈도수 (그래프 생성 시)\n",
    "    max_length = 10, # 단어의 최대 길이\n",
    "    verbose = True\n",
    "    )\n",
    "\n",
    "beta = 0.85    # PageRank의 decaying factor beta\n",
    "max_iter = 10\n",
    "\n",
    "# 여기서 for문\n",
    "# text_key_list = []\n",
    "# for text in texts_n:\n",
    "keywords, rank, graph = wordrank_extractor.extract(texts_n, beta, max_iter)\n",
    "    "
   ]
  },
  {
   "cell_type": "code",
   "execution_count": 37,
   "id": "0cf40a20-56d0-416b-a9b0-68d1fae87f6f",
   "metadata": {},
   "outputs": [],
   "source": [
    "# keywords"
   ]
  },
  {
   "cell_type": "markdown",
   "id": "452a761a-236b-4b5d-902c-0f05a5675e93",
   "metadata": {},
   "source": [
    "위와 같이 vocabulary를 미리 설정하거나 decaying factor를 단어별로 다르게 (bias) 할당할 수 있으며, 모든 단어의 랭킹의 총 합은 vocabulary size와 같음. 즉 default decaying factor는 1.0"
   ]
  },
  {
   "cell_type": "code",
   "execution_count": 38,
   "id": "c40caf6b-ba57-4cf4-a5e3-38376ca5978c",
   "metadata": {},
   "outputs": [],
   "source": [
    "# 불용어 파일 읽기\n",
    "stop_words = []\n",
    "with open('../data_analysis_test/불용.txt', 'r', encoding='utf-8') as file:\n",
    "   stop_words = file.read().splitlines()\n",
    "# keyword_list\n",
    "# # 불용어 제거\n",
    "pop_list = []\n",
    "for keyword in keywords:\n",
    "    # print(keyword)\n",
    "    # print(type(keyword))\n",
    "    if keyword in stop_words:\n",
    "        pop_list.append(keyword)\n",
    "        # print(keyword)\n",
    "        \n",
    "# print(pop_list)\n",
    "for p in pop_list:\n",
    "    # print(p)\n",
    "    keywords.pop(p, None)\n",
    "\n",
    "# # filtered_tokens =  [token for token in keyword_list[0] if token not in stop_words]\n",
    "# # filtered_tokens\n",
    "# keywords"
   ]
  },
  {
   "cell_type": "code",
   "execution_count": 39,
   "id": "b5edba30-a628-483b-82c4-f742b8b1659b",
   "metadata": {},
   "outputs": [
    {
     "name": "stdout",
     "output_type": "stream",
     "text": [
      "('ai', '클라우드', '기업', '서비스', '솔루션', '데이터', '플랫폼', '디지털', '보안', '개발', '글로벌', '출시', '사업', '국내', '전문', '체결', '시장', '지원', '선정', '프로', '구축', '고객', '시스템', '업무', '발표', '운영', '한국', 'it', '제품', '산업', '메타', '대표', '서울', '비즈니스', '인공', '진행', '분석', '개최', '소프트', '인증', '파트너', '공급', '스마트', '분야', '연구', '로봇', '혁신', '통합', '스타트업', '협력', '자사', '기능', '투자', '공개', '교육', '환경', '자동', '획득', '인프라', '정보', '기존', '공공', '콘텐츠', '확대', '강화', '온라인', '오픈', '금융', '코리아', '구글', '확장', '영상', '모델', '3d', '추진', 'kt', '참가', 'mo', 'nft', '차세대', '6월', '성장', '가상', '신규', '인텔', '적용', '오라클', '마이', '가능', '가트너', '버추얼', '애플리케이션', 'digital', '의료', '공식', 'software', 'aws', '전략', '일렉트릭', '11')\n"
     ]
    }
   ],
   "source": [
    "top_keywords = []\n",
    "# for word, r in sorted(keywords.items(), key=lambda x:x[1], reverse=True)[:30]:\n",
    "#     print('%8s:\\t%.4f' % (word, r))\n",
    "top_keywords.append(\n",
    "    sorted(keywords.items(),\n",
    "           key=lambda x:x[1],\n",
    "           reverse=True)[:100]\n",
    ")\n",
    "\n",
    "\n",
    "keyword_list = []\n",
    "for keywords in top_keywords:\n",
    "    words, ranks = zip(*keywords)\n",
    "    print(words)\n",
    "    \n",
    "    keyword_list.append(words)\n"
   ]
  },
  {
   "cell_type": "code",
   "execution_count": null,
   "id": "785a2d76-0cbb-4ffe-8500-a1c0a74d0d5f",
   "metadata": {},
   "outputs": [],
   "source": [
    "for k in range(100):\n",
    "    \n",
    "    message = '  --  '.join(\n",
    "        ['%8s (%.3f)' % (top_keywords[0][k][0],top_keywords[0][k][1])]\n",
    "         )\n",
    "    print(message)\n",
    "# 여기까지가 기사 본문으로부터 키워드 추출"
   ]
  },
  {
   "cell_type": "markdown",
   "id": "43871a64-3cb3-4492-b738-167c6c06a660",
   "metadata": {},
   "source": [
    " top 100에서 중복되는 키워드들을 제거하고 차이가 있는 키워드만 추출해서 살펴보겠습니다."
   ]
  },
  {
   "cell_type": "code",
   "execution_count": 50,
   "id": "761918fa-408d-4feb-973c-34d82e59ca98",
   "metadata": {},
   "outputs": [
    {
     "data": {
      "text/plain": [
       "0"
      ]
     },
     "execution_count": 50,
     "metadata": {},
     "output_type": "execute_result"
    }
   ],
   "source": [
    "keyword_counter = {}\n",
    "\n",
    "w_l = []\n",
    "r_l = []\n",
    "for keywords in top_keywords:\n",
    "    words, ranks = zip(*keywords)\n",
    "    for word in words:\n",
    "        keyword_counter[word] = keyword_counter.get(word, 0) + 1\n",
    "        w_l.append(word)\n",
    "    for rank in ranks:\n",
    "        r_l.append(rank)\n",
    "\n",
    "csv_list = list(zip(w_l, r_l))\n",
    "common_keywords = {word for word, count in keyword_counter.items() if count == 3}\n",
    "len(common_keywords)"
   ]
  },
  {
   "cell_type": "code",
   "execution_count": 51,
   "id": "dbea8500-01a2-458f-b8a5-9174d39620c4",
   "metadata": {},
   "outputs": [
    {
     "data": {
      "text/html": [
       "<div>\n",
       "<style scoped>\n",
       "    .dataframe tbody tr th:only-of-type {\n",
       "        vertical-align: middle;\n",
       "    }\n",
       "\n",
       "    .dataframe tbody tr th {\n",
       "        vertical-align: top;\n",
       "    }\n",
       "\n",
       "    .dataframe thead th {\n",
       "        text-align: right;\n",
       "    }\n",
       "</style>\n",
       "<table border=\"1\" class=\"dataframe\">\n",
       "  <thead>\n",
       "    <tr style=\"text-align: right;\">\n",
       "      <th></th>\n",
       "      <th>words</th>\n",
       "      <th>ranks</th>\n",
       "    </tr>\n",
       "  </thead>\n",
       "  <tbody>\n",
       "    <tr>\n",
       "      <th>0</th>\n",
       "      <td>ai</td>\n",
       "      <td>66.118255</td>\n",
       "    </tr>\n",
       "    <tr>\n",
       "      <th>1</th>\n",
       "      <td>클라우드</td>\n",
       "      <td>48.612044</td>\n",
       "    </tr>\n",
       "    <tr>\n",
       "      <th>2</th>\n",
       "      <td>기업</td>\n",
       "      <td>41.067190</td>\n",
       "    </tr>\n",
       "    <tr>\n",
       "      <th>3</th>\n",
       "      <td>서비스</td>\n",
       "      <td>36.789023</td>\n",
       "    </tr>\n",
       "    <tr>\n",
       "      <th>4</th>\n",
       "      <td>솔루션</td>\n",
       "      <td>31.132580</td>\n",
       "    </tr>\n",
       "    <tr>\n",
       "      <th>...</th>\n",
       "      <td>...</td>\n",
       "      <td>...</td>\n",
       "    </tr>\n",
       "    <tr>\n",
       "      <th>95</th>\n",
       "      <td>software</td>\n",
       "      <td>4.238797</td>\n",
       "    </tr>\n",
       "    <tr>\n",
       "      <th>96</th>\n",
       "      <td>aws</td>\n",
       "      <td>4.162660</td>\n",
       "    </tr>\n",
       "    <tr>\n",
       "      <th>97</th>\n",
       "      <td>전략</td>\n",
       "      <td>4.094209</td>\n",
       "    </tr>\n",
       "    <tr>\n",
       "      <th>98</th>\n",
       "      <td>일렉트릭</td>\n",
       "      <td>4.081404</td>\n",
       "    </tr>\n",
       "    <tr>\n",
       "      <th>99</th>\n",
       "      <td>11</td>\n",
       "      <td>4.029376</td>\n",
       "    </tr>\n",
       "  </tbody>\n",
       "</table>\n",
       "<p>100 rows × 2 columns</p>\n",
       "</div>"
      ],
      "text/plain": [
       "       words      ranks\n",
       "0         ai  66.118255\n",
       "1       클라우드  48.612044\n",
       "2         기업  41.067190\n",
       "3        서비스  36.789023\n",
       "4        솔루션  31.132580\n",
       "..       ...        ...\n",
       "95  software   4.238797\n",
       "96       aws   4.162660\n",
       "97        전략   4.094209\n",
       "98      일렉트릭   4.081404\n",
       "99        11   4.029376\n",
       "\n",
       "[100 rows x 2 columns]"
      ]
     },
     "execution_count": 51,
     "metadata": {},
     "output_type": "execute_result"
    }
   ],
   "source": [
    "df_csv = pd.DataFrame(data=csv_list, columns=['words','ranks'])\n",
    "df_csv = df_csv.sort_values(by=['ranks'], ascending=False)\n",
    "df_csv"
   ]
  },
  {
   "cell_type": "code",
   "execution_count": 52,
   "id": "83b2a437-dec5-454e-864c-fa9a34e5ffa9",
   "metadata": {},
   "outputs": [],
   "source": [
    "df_csv.to_csv(\"../data_crawling_D/keywords/techworld_keywords.csv\", mode='w')"
   ]
  },
  {
   "cell_type": "markdown",
   "id": "c45dbd02-8835-4514-a92a-a894bbbd2088",
   "metadata": {},
   "source": [
    "## 키워드 분석"
   ]
  },
  {
   "cell_type": "markdown",
   "id": "11db06d8-38b8-41cb-93a3-65f4653e2d24",
   "metadata": {},
   "source": [
    "## # Reference keywords"
   ]
  },
  {
   "cell_type": "code",
   "execution_count": 42,
   "id": "5edb8254-4dff-4132-8051-0ce90e57188e",
   "metadata": {},
   "outputs": [],
   "source": [
    "\n",
    "# df_techworld\n",
    "df_techworld_tnt = df_techworld[['news_date', 'total_keywords']]\n",
    "# df_techworld_tnt"
   ]
  },
  {
   "cell_type": "code",
   "execution_count": null,
   "id": "8fab71b2-af58-467a-9a4f-3321046c9a09",
   "metadata": {},
   "outputs": [],
   "source": [
    "# 데이터프레임에서 '내용'과 '작성일' 열을 가져옴\n",
    "import re\n",
    "from collections import Counter\n",
    "\n",
    "# 모듈화하기\n",
    "def get_keyword_monthly_agg(df_techworld_tnt):\n",
    "    text_data = df_techworld_tnt['total_keywords']\n",
    "    date_data = df_techworld_tnt['news_date']\n",
    "    \n",
    "    \n",
    "    # 단어 등장 횟수를 저장할 딕셔너리 초기화\n",
    "    word_counts = {}\n",
    "    # 월별 단어 집계\n",
    "    word_n_cnt_list = []\n",
    "    \n",
    "    # 데이터프레임을 순회하며 월 별로 단어 등장 횟수 집계\n",
    "    for text, date in zip(text_data, date_data):\n",
    "        # 텍스트 토큰화 및 형태소 분석\n",
    "        \n",
    "        # 년 추출\n",
    "        tokens = text.split(\",\")\n",
    "        year = date.split('-')[0]\n",
    "        # 월 추출\n",
    "        month = date.split('-')[1]\n",
    "        year_month = year + '-' + month\n",
    "\n",
    "        # 단어 등장 횟수 집계\n",
    "        if year_month in word_counts:\n",
    "            for token in tokens:\n",
    "                word_counts[year_month][token] = word_counts[year_month].get(token, 0) + 1\n",
    "        else:\n",
    "            word_counts[year_month] = {}\n",
    "            for token in tokens:\n",
    "                word_counts[year_month][token] = 1\n",
    "                \n",
    "    # 횟수가 2이상인 단어만 추출하기\n",
    "    min_word_count = 2\n",
    "    top_words_limit = 21 # 최대 20개\n",
    "    \n",
    "    # 월 별로 상위 단어 추출\n",
    "    \n",
    "    for year_month, counts in word_counts.items():\n",
    "        # print(f\"{month}월\")\n",
    "        # 횟수만 추출하기\n",
    "        sorted_counts = sorted(counts.items(), key=lambda x: x[1], reverse=True)\n",
    "        \n",
    "        # 횟수가 2이상인 단어 필터링\n",
    "        filtered_counts = [(word, count) for word, count in sorted_counts if count >= min_word_count]\n",
    "        \n",
    "        # 만약 2이상인 단어의 수가 5개 미만이면 모든 단어 추출\n",
    "        if len(filtered_counts) < top_words_limit:\n",
    "            filtered_counts = sorted_counts\n",
    "        # 상위 단어 출력\n",
    "        top_words = filtered_counts[:top_words_limit]\n",
    "        for word, count in top_words:\n",
    "            # print(f\" {word} | 등장횟수: {count}\")\n",
    "            word_n_cnt_list.append([year_month, word, count])\n",
    "        # print(word_n_cnt_list)\n",
    "        print()\n",
    "    \n",
    "    return word_n_cnt_list\n",
    "\n",
    "tw_key_list = get_keyword_monthly_agg(df_techworld_tnt)\n",
    "# df_tw_key_h_list"
   ]
  },
  {
   "cell_type": "code",
   "execution_count": 44,
   "id": "3d9202e9-5ed3-4f10-9e44-f35ca2960065",
   "metadata": {},
   "outputs": [
    {
     "name": "stdout",
     "output_type": "stream",
     "text": [
      "2차원 리스트로 만든 dataframe:\n",
      "         date words  cnt\n",
      "0    2023-05  클라우드   34\n",
      "1    2023-05    출시   20\n",
      "2    2023-05    기반   18\n",
      "3    2023-05   글로벌   18\n",
      "4    2023-05   솔루션   16\n",
      "..       ...   ...  ...\n",
      "247  2022-06    테크   26\n",
      "248  2022-06   데이터   26\n",
      "249  2022-06   파트너   24\n",
      "250  2022-06    지원   22\n",
      "251  2022-06    지능   22\n",
      "\n",
      "[252 rows x 3 columns]\n"
     ]
    }
   ],
   "source": [
    "# 리스트를 df으로\n",
    "df_tw_key_list = pd.DataFrame(tw_key_list, columns=['date','words','cnt'])\n",
    "print('2차원 리스트로 만든 dataframe:\\n', df_tw_key_list)"
   ]
  },
  {
   "cell_type": "code",
   "execution_count": 45,
   "id": "e6d63a1a-1a68-4382-911f-218fea30113e",
   "metadata": {},
   "outputs": [],
   "source": [
    "# pivot으로 {인덱스 : date, 컬럼: words, 값: cnt}인 테이블 생성\n",
    "df_tw_key_pivot = df_tw_key_list.pivot(index='date', columns='words', values='cnt')\n",
    "df_tw_key_pivot.fillna('0', inplace=True) # 결측값 0처리\n",
    "df_tw_key_pivot = df_tw_key_pivot.apply(pd.to_numeric)\n",
    "# df_tw_key_pivot"
   ]
  },
  {
   "cell_type": "code",
   "execution_count": 46,
   "id": "b37deb6d-4c0e-4aa1-83b0-b99c313a1e0b",
   "metadata": {},
   "outputs": [
    {
     "name": "stdout",
     "output_type": "stream",
     "text": [
      "<class 'pandas.core.frame.DataFrame'>\n",
      "Index: 12 entries, 2022-06 to 2023-05\n",
      "Data columns (total 65 columns):\n",
      " #   Column  Non-Null Count  Dtype  \n",
      "---  ------  --------------  -----  \n",
      " 0   강화      12 non-null     float64\n",
      " 1   개발      12 non-null     float64\n",
      " 2   개최      12 non-null     float64\n",
      " 3   공개      12 non-null     float64\n",
      " 4   공공      12 non-null     float64\n",
      " 5   공략      12 non-null     float64\n",
      " 6   관리      12 non-null     float64\n",
      " 7   구축      12 non-null     float64\n",
      " 8   글로벌     12 non-null     float64\n",
      " 9   금융      12 non-null     float64\n",
      " 10  기반      12 non-null     float64\n",
      " 11  기술      12 non-null     float64\n",
      " 12  기업      12 non-null     float64\n",
      " 13  노트북     12 non-null     float64\n",
      " 14  닉스      12 non-null     float64\n",
      " 15  데이터     12 non-null     float64\n",
      " 16  디지털     12 non-null     float64\n",
      " 17  로봇      12 non-null     float64\n",
      " 18  마이크로    12 non-null     float64\n",
      " 19  매출      12 non-null     float64\n",
      " 20  메타      12 non-null     float64\n",
      " 21  발표      12 non-null     float64\n",
      " 22  버스      12 non-null     float64\n",
      " 23  보안      12 non-null     float64\n",
      " 24  사업      12 non-null     float64\n",
      " 25  서비스     12 non-null     float64\n",
      " 26  선정      12 non-null     float64\n",
      " 27  센터      12 non-null     float64\n",
      " 28  솔루션     12 non-null     float64\n",
      " 29  스마트     12 non-null     float64\n",
      " 30  스핀      12 non-null     float64\n",
      " 31  시스템     12 non-null     float64\n",
      " 32  시장      12 non-null     float64\n",
      " 33  신제품     12 non-null     float64\n",
      " 34  업무      12 non-null     float64\n",
      " 35  에이      12 non-null     float64\n",
      " 36  유공      12 non-null     float64\n",
      " 37  이스트소프트  12 non-null     float64\n",
      " 38  인증      12 non-null     float64\n",
      " 39  장관      12 non-null     float64\n",
      " 40  전환      12 non-null     float64\n",
      " 41  정보      12 non-null     float64\n",
      " 42  제공      12 non-null     float64\n",
      " 43  지능      12 non-null     float64\n",
      " 44  지원      12 non-null     float64\n",
      " 45  참가      12 non-null     float64\n",
      " 46  챗       12 non-null     float64\n",
      " 47  체결      12 non-null     float64\n",
      " 48  출시      12 non-null     float64\n",
      " 49  코드      12 non-null     float64\n",
      " 50  코리아     12 non-null     float64\n",
      " 51  클라우드    12 non-null     float64\n",
      " 52  테크      12 non-null     float64\n",
      " 53  투자      12 non-null     float64\n",
      " 54  티맥스     12 non-null     float64\n",
      " 55  티맥스소프트  12 non-null     float64\n",
      " 56  파트너     12 non-null     float64\n",
      " 57  표창      12 non-null     float64\n",
      " 58  플랫폼     12 non-null     float64\n",
      " 59  한국      12 non-null     float64\n",
      " 60  협력      12 non-null     float64\n",
      " 61  협약      12 non-null     float64\n",
      " 62  확대      12 non-null     float64\n",
      " 63  확장      12 non-null     float64\n",
      " 64  획득      12 non-null     float64\n",
      "dtypes: float64(65)\n",
      "memory usage: 6.2+ KB\n"
     ]
    }
   ],
   "source": [
    "df_tw_key_pivot.info()"
   ]
  },
  {
   "cell_type": "code",
   "execution_count": 47,
   "id": "18935635-65a4-448f-a38b-9c0ab9300776",
   "metadata": {},
   "outputs": [
    {
     "data": {
      "text/plain": [
       "words\n",
       "클라우드      452.0\n",
       "출시        362.0\n",
       "솔루션       349.0\n",
       "서비스       300.0\n",
       "사업        263.0\n",
       "          ...  \n",
       "공략          6.0\n",
       "공공          6.0\n",
       "이스트소프트      6.0\n",
       "유공          6.0\n",
       "티맥스소프트      6.0\n",
       "Length: 65, dtype: float64"
      ]
     },
     "execution_count": 47,
     "metadata": {},
     "output_type": "execute_result"
    }
   ],
   "source": [
    "# 각 단어당 cnt 합산을 구한 뒤 상위 100개 리스트에 담기\n",
    "df_tw_key_pivot_sum = df_tw_key_pivot.sum()\n",
    "df_tw_key_pivot_sum_srt = df_tw_key_pivot_sum.sort_values(ascending=False)\n",
    "df_tw_key_pivot_sum_srt"
   ]
  },
  {
   "cell_type": "code",
   "execution_count": 48,
   "id": "c54cfb59-5620-4742-98d3-dd86c3689a0e",
   "metadata": {},
   "outputs": [],
   "source": [
    "# 인덱스에서 word를 빼내고\n",
    "df_tw_key_pivot_sum_srt = df_tw_key_pivot_sum_srt.reset_index(drop=False)"
   ]
  },
  {
   "cell_type": "code",
   "execution_count": 49,
   "id": "941ed94a-626d-49dc-a5b7-2a8c80303c2a",
   "metadata": {},
   "outputs": [],
   "source": [
    "ref_key_list = df_tw_key_pivot_sum_srt['words'].to_list()\n",
    "# ref_list"
   ]
  },
  {
   "cell_type": "code",
   "execution_count": 74,
   "id": "67131bbc-a715-4510-bfd2-046f19a478f7",
   "metadata": {},
   "outputs": [],
   "source": [
    "# 100개 reference용 키워드 추출\n",
    "top_100_ref_list = ref_key_list[:100]    "
   ]
  },
  {
   "cell_type": "code",
   "execution_count": 72,
   "id": "8f8d6877-5679-4c1c-93f3-1bb0c13d3473",
   "metadata": {},
   "outputs": [
    {
     "name": "stdout",
     "output_type": "stream",
     "text": [
      "['ai', '클라우드', '기업', '서비스', '솔루션', '데이터', '플랫폼', '디지털', '보안', '개발', '글로벌', '출시', '사업', '국내', '전문', '체결', '시장', '지원', '선정', '프로', '구축', '고객', '관리', '시스템', '업무', '발표', '운영', '한국', 'it', '제품', '산업', '메타', '대표', '서울', '비즈니스', '인공', '진행', '분석', '개최', '소프트', '인증', '파트너', '공급', '스마트', '분야', '연구', '로봇', '혁신', '통합', '스타트업', '협력', '자사', '기능', '투자', '올해', '공개', '교육', '환경', '자동', '획득', '인프라', '정보', '기존', '공공', '콘텐츠', '확대', '강화', '온라인', '오픈', '금융', '코리아', '구글', '확장', '영상', '모델', '3d', '추진', 'kt', '참가', 'mo', 'nft', '차세대', '6월', '성장', '가상', '신규', '인텔', '적용', '오라클', '마이', '가능', '가트너', '버추얼', '애플리케이션', 'digital', '의료', '공식', '매출', 'software', 'aws']\n"
     ]
    }
   ],
   "source": [
    "top_100_kw_list = []\n",
    "for k in range(100):\n",
    "    # print(top_keywords[0][k][0])\n",
    "    top_100_kw_list.append(top_keywords[0][k][0])\n",
    "print(top_100_kw_list)"
   ]
  },
  {
   "cell_type": "markdown",
   "id": "badf3a63-585e-4b38-9a9f-c1f4ff77fea7",
   "metadata": {},
   "source": [
    "## ROUGE-1,2,l 로 성능 평가"
   ]
  },
  {
   "cell_type": "code",
   "execution_count": 76,
   "id": "a9fee466-a880-42f5-b6c5-71af4502f810",
   "metadata": {},
   "outputs": [
    {
     "data": {
      "text/plain": [
       "{'rouge-1': {'r': 0.6307692307692307, 'p': 0.41, 'f': 0.4969696921946741},\n",
       " 'rouge-2': {'r': 0.0, 'p': 0.0, 'f': 0.0},\n",
       " 'rouge-l': {'r': 0.2153846153846154, 'p': 0.14, 'f': 0.16969696492194689}}"
      ]
     },
     "execution_count": 76,
     "metadata": {},
     "output_type": "execute_result"
    }
   ],
   "source": [
    "from rouge import Rouge\n",
    "\n",
    "# 모델로 구한 키워드들\n",
    "rank_list = top_100_kw_list\n",
    "rank_str = \" \".join(rank_list)\n",
    "# 실제 헤드라인과 내용에서 집계한 키워드들\n",
    "ref_str = \" \".join(top_100_ref_list)\n",
    "model_out = [rank_str]\n",
    "# '다양한', '관련', '것이', '새로운', '최근', '분석', '출처:', '활용', '따라', '한다.', '세계', '공동', '가장', '하는', '현재', '기존', '등을', '점유율은', '모든', '다른', '대해', '많은', '순위', '결과를', '또한', '대비', '10', '신규', '이용', '이를', '주요', '모두', '문제', '그러나', '여러', '출시', '이미', '생성', '가능', '이어', '공개', '발표', '이후', '최신', '전했다', '특히', '이상', '인기', '이는', '하지만', '지수', '이러한', '때문에', '핵심', '6월', '아이', '것은', '그리고', '이에', '같이', '동시에', '각각', '참여', '시간', '전체', '하나', '수준', '물론', '다수', '동안', '9월', '어떤', '전망', '혹은', '양자', '전자', '바로', '여전히'\n",
    "reference = [ref_str]\n",
    "rouge = Rouge()\n",
    "rouge.get_scores(model_out, reference, avg=True)\n",
    "\n",
    "# >>>\n",
    "# {   'rouge-1': {   'f': 0.6279006234427593,\n",
    "#                    'p': 0.8604497354497355,\n",
    "#                    'r': 0.5273531655225019},\n",
    "#     'rouge-2': {   'f': 0.3883256484545606,\n",
    "#                    'p': 0.5244559362206421,\n",
    "#                    'r': 0.32954545454545453},\n",
    "#     'rouge-l': {   'f': 0.6282785202429159,\n",
    "#                    'p': 0.8122895622895623,\n",
    "#                    'r': 0.5369305616983636}}"
   ]
  },
  {
   "cell_type": "code",
   "execution_count": null,
   "id": "3ea91040-4a60-4750-a95f-9a00f0d080a7",
   "metadata": {},
   "outputs": [],
   "source": []
  }
 ],
 "metadata": {
  "kernelspec": {
   "display_name": "lc_pjt_venv",
   "language": "python",
   "name": "lc_pjt_venv"
  },
  "language_info": {
   "codemirror_mode": {
    "name": "ipython",
    "version": 3
   },
   "file_extension": ".py",
   "mimetype": "text/x-python",
   "name": "python",
   "nbconvert_exporter": "python",
   "pygments_lexer": "ipython3",
   "version": "3.9.13"
  }
 },
 "nbformat": 4,
 "nbformat_minor": 5
}
