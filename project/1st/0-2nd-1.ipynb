{
 "cells": [
  {
   "cell_type": "code",
   "execution_count": 1,
   "id": "23d2286d-d3ac-41bd-bf11-4d7a57b78c55",
   "metadata": {
    "tags": []
   },
   "outputs": [
    {
     "name": "stdout",
     "output_type": "stream",
     "text": [
      "['Malgun Gothic']\n"
     ]
    }
   ],
   "source": [
    "# warning 무시\n",
    "import warnings\n",
    "warnings.filterwarnings('ignore')\n",
    "\n",
    "import matplotlib.pylab as plt\n",
    "# '-' 깨짐 해결 모듈\n",
    "import matplotlib as mpl\n",
    "\n",
    "plt.rcParams[\"font.family\"] = \"Malgun Gothic\"  # For Windows\n",
    "plt.rcParams[\"font.size\"] = 12\n",
    "plt.rcParams[\"figure.figsize\"] = (8,4)\n",
    "print(plt.rcParams[\"font.family\"])\n",
    "\n",
    "# 마이너스 깨짐 해결\n",
    "mpl.rcParams[\"axes.unicode_minus\"] = False\n",
    "\n",
    "from sklearn.datasets import load_breast_cancer\n",
    "from sklearn.model_selection import train_test_split\n",
    "from sklearn.datasets import load_iris\n",
    "from sklearn.tree import DecisionTreeClassifier\n",
    "from sklearn.preprocessing import LabelEncoder\n",
    "from sklearn.metrics import classification_report\n",
    "from sklearn.tree import plot_tree\n",
    "from sklearn.linear_model import LinearRegression\n",
    "from sklearn.model_selection import train_test_split\n",
    "from sklearn.metrics import mean_squared_error\n",
    "from sklearn.metrics import accuracy_score\n",
    "from sklearn.ensemble import RandomForestClassifier\n",
    "from sklearn.preprocessing import OneHotEncoder\n",
    "from bs4 import BeautifulSoup\n",
    "from xgboost import XGBRegressor\n",
    "from sklearn.metrics import r2_score\n",
    "\n",
    "from konlpy.tag import Okt\n",
    "\n",
    "import numpy as np\n",
    "import pandas as pd\n",
    "import pandas as pd\n",
    "import requests\n",
    "import datetime\n",
    "import matplotlib.pyplot as plt\n",
    "import seaborn as sns"
   ]
  },
  {
   "cell_type": "code",
   "execution_count": 10,
   "id": "72c41b94-e06a-4770-96a7-fc165cd0604d",
   "metadata": {
    "tags": []
   },
   "outputs": [],
   "source": [
    "test = pd.read_csv('data/IT_WORLD_Cra1.csv')"
   ]
  },
  {
   "cell_type": "code",
   "execution_count": 11,
   "id": "db6e931f-e03c-4077-a859-4c03a7e247f7",
   "metadata": {
    "tags": []
   },
   "outputs": [
    {
     "data": {
      "text/html": [
       "<div>\n",
       "<style scoped>\n",
       "    .dataframe tbody tr th:only-of-type {\n",
       "        vertical-align: middle;\n",
       "    }\n",
       "\n",
       "    .dataframe tbody tr th {\n",
       "        vertical-align: top;\n",
       "    }\n",
       "\n",
       "    .dataframe thead th {\n",
       "        text-align: right;\n",
       "    }\n",
       "</style>\n",
       "<table border=\"1\" class=\"dataframe\">\n",
       "  <thead>\n",
       "    <tr style=\"text-align: right;\">\n",
       "      <th></th>\n",
       "      <th>LABEL-1</th>\n",
       "      <th>주소</th>\n",
       "      <th>제목</th>\n",
       "      <th>내용</th>\n",
       "      <th>태그1</th>\n",
       "      <th>태그2</th>\n",
       "      <th>태그3</th>\n",
       "      <th>작성일</th>\n",
       "    </tr>\n",
       "  </thead>\n",
       "  <tbody>\n",
       "    <tr>\n",
       "      <th>0</th>\n",
       "      <td>https://www.itworld.co.kr/t/55049/%EA%B8%80%EB...</td>\n",
       "      <td>https://www.itworld.co.kr/files/itworld/ITW_20...</td>\n",
       "      <td>“미래형 자동차의 향연” CES 2023 자동차 전시 이모저모</td>\n",
       "      <td>가전전시회로 시작한 CES가 점점 더 대형 자동차 전시회로 변모하고 있다. 디지털화...</td>\n",
       "      <td>CES</td>\n",
       "      <td>전기차</td>\n",
       "      <td>전시회</td>\n",
       "      <td>2023.01.12</td>\n",
       "    </tr>\n",
       "    <tr>\n",
       "      <th>1</th>\n",
       "      <td>https://www.itworld.co.kr/t/55049/%EA%B8%80%EB...</td>\n",
       "      <td>https://www.itworld.co.kr/files/ciokr/2023/01/...</td>\n",
       "      <td>“마케터 절반, 광고 미디어와 타겟 최적화에 확신 없다”</td>\n",
       "      <td>CMO 위원회(CMO Council)의 최신 보고서에 따르면 마케터 3명 중 2명은...</td>\n",
       "      <td>CMO 위원회</td>\n",
       "      <td>최적화</td>\n",
       "      <td>고객 확보</td>\n",
       "      <td>2023.01.13</td>\n",
       "    </tr>\n",
       "    <tr>\n",
       "      <th>2</th>\n",
       "      <td>https://www.itworld.co.kr/t/55049/%EA%B8%80%EB...</td>\n",
       "      <td>https://www.itworld.co.kr/files/itworld/ITW_20...</td>\n",
       "      <td>글로벌 칼럼 | 경제 역풍이 2023년 사이버보안 업계에 미칠 영향</td>\n",
       "      <td>최근 ESG(Enterprise Strategy Group)는 2023년의 사이버보...</td>\n",
       "      <td>보안</td>\n",
       "      <td>2023년전망</td>\n",
       "      <td>보안예산</td>\n",
       "      <td>2023.01.13</td>\n",
       "    </tr>\n",
       "    <tr>\n",
       "      <th>3</th>\n",
       "      <td>https://www.itworld.co.kr/t/55049/%EA%B8%80%EB...</td>\n",
       "      <td>https://www.itworld.co.kr/files/itworld/ITW_20...</td>\n",
       "      <td>글로벌 칼럼 | 마침내, OLED 모니터의 해가 왔다</td>\n",
       "      <td>PC 마니아와 게이머들이 몇 년 동안 애타게 기다려온 OLED 모니터의 대중화가 2...</td>\n",
       "      <td>OLED</td>\n",
       "      <td>모니터</td>\n",
       "      <td>PC모니터</td>\n",
       "      <td>2023.01.13</td>\n",
       "    </tr>\n",
       "    <tr>\n",
       "      <th>4</th>\n",
       "      <td>https://www.itworld.co.kr/t/55049/%EA%B8%80%EB...</td>\n",
       "      <td>https://www.itworld.co.kr/files/itworld/ITW_20...</td>\n",
       "      <td>알파벳 자회사 잇단 구조조정 \"실적 압박과 자원재배치\"로 15~20% 감원</td>\n",
       "      <td>알파벳의 기타 부서 감원 계획에 자회사인 인트린직 AI(Intrinsic AI) 인...</td>\n",
       "      <td>정리해고</td>\n",
       "      <td>감원</td>\n",
       "      <td>NaN</td>\n",
       "      <td>2023.01.16</td>\n",
       "    </tr>\n",
       "  </tbody>\n",
       "</table>\n",
       "</div>"
      ],
      "text/plain": [
       "                                             LABEL-1  \\\n",
       "0  https://www.itworld.co.kr/t/55049/%EA%B8%80%EB...   \n",
       "1  https://www.itworld.co.kr/t/55049/%EA%B8%80%EB...   \n",
       "2  https://www.itworld.co.kr/t/55049/%EA%B8%80%EB...   \n",
       "3  https://www.itworld.co.kr/t/55049/%EA%B8%80%EB...   \n",
       "4  https://www.itworld.co.kr/t/55049/%EA%B8%80%EB...   \n",
       "\n",
       "                                                  주소  \\\n",
       "0  https://www.itworld.co.kr/files/itworld/ITW_20...   \n",
       "1  https://www.itworld.co.kr/files/ciokr/2023/01/...   \n",
       "2  https://www.itworld.co.kr/files/itworld/ITW_20...   \n",
       "3  https://www.itworld.co.kr/files/itworld/ITW_20...   \n",
       "4  https://www.itworld.co.kr/files/itworld/ITW_20...   \n",
       "\n",
       "                                          제목  \\\n",
       "0         “미래형 자동차의 향연” CES 2023 자동차 전시 이모저모   \n",
       "1            “마케터 절반, 광고 미디어와 타겟 최적화에 확신 없다”   \n",
       "2      글로벌 칼럼 | 경제 역풍이 2023년 사이버보안 업계에 미칠 영향   \n",
       "3              글로벌 칼럼 | 마침내, OLED 모니터의 해가 왔다   \n",
       "4  알파벳 자회사 잇단 구조조정 \"실적 압박과 자원재배치\"로 15~20% 감원   \n",
       "\n",
       "                                                  내용      태그1      태그2    태그3  \\\n",
       "0  가전전시회로 시작한 CES가 점점 더 대형 자동차 전시회로 변모하고 있다. 디지털화...      CES      전기차    전시회   \n",
       "1  CMO 위원회(CMO Council)의 최신 보고서에 따르면 마케터 3명 중 2명은...  CMO 위원회      최적화  고객 확보   \n",
       "2  최근 ESG(Enterprise Strategy Group)는 2023년의 사이버보...       보안  2023년전망   보안예산   \n",
       "3  PC 마니아와 게이머들이 몇 년 동안 애타게 기다려온 OLED 모니터의 대중화가 2...     OLED      모니터  PC모니터   \n",
       "4  알파벳의 기타 부서 감원 계획에 자회사인 인트린직 AI(Intrinsic AI) 인...     정리해고       감원    NaN   \n",
       "\n",
       "          작성일  \n",
       "0  2023.01.12  \n",
       "1  2023.01.13  \n",
       "2  2023.01.13  \n",
       "3  2023.01.13  \n",
       "4  2023.01.16  "
      ]
     },
     "execution_count": 11,
     "metadata": {},
     "output_type": "execute_result"
    }
   ],
   "source": [
    "test.head()"
   ]
  },
  {
   "cell_type": "code",
   "execution_count": 12,
   "id": "34ef51e6-88ac-47b1-ba01-32e0efbd784e",
   "metadata": {
    "tags": []
   },
   "outputs": [],
   "source": [
    "# Null/NaN(결손) 데이터를 제거한다. \n",
    "test.dropna(inplace=True)"
   ]
  },
  {
   "cell_type": "code",
   "execution_count": 13,
   "id": "0e60d99e-de26-4799-80db-b5d77c802f5a",
   "metadata": {
    "tags": []
   },
   "outputs": [],
   "source": [
    "test.drop(['LABEL-1','주소','태그1','태그2','태그3'], axis=1, inplace=True)"
   ]
  },
  {
   "cell_type": "code",
   "execution_count": 14,
   "id": "116e80e2-7acf-4ae6-9a49-f51ad7d6a630",
   "metadata": {
    "tags": []
   },
   "outputs": [
    {
     "data": {
      "text/html": [
       "<div>\n",
       "<style scoped>\n",
       "    .dataframe tbody tr th:only-of-type {\n",
       "        vertical-align: middle;\n",
       "    }\n",
       "\n",
       "    .dataframe tbody tr th {\n",
       "        vertical-align: top;\n",
       "    }\n",
       "\n",
       "    .dataframe thead th {\n",
       "        text-align: right;\n",
       "    }\n",
       "</style>\n",
       "<table border=\"1\" class=\"dataframe\">\n",
       "  <thead>\n",
       "    <tr style=\"text-align: right;\">\n",
       "      <th></th>\n",
       "      <th>제목</th>\n",
       "      <th>내용</th>\n",
       "      <th>작성일</th>\n",
       "    </tr>\n",
       "  </thead>\n",
       "  <tbody>\n",
       "    <tr>\n",
       "      <th>0</th>\n",
       "      <td>“미래형 자동차의 향연” CES 2023 자동차 전시 이모저모</td>\n",
       "      <td>가전전시회로 시작한 CES가 점점 더 대형 자동차 전시회로 변모하고 있다. 디지털화...</td>\n",
       "      <td>2023.01.12</td>\n",
       "    </tr>\n",
       "    <tr>\n",
       "      <th>1</th>\n",
       "      <td>“마케터 절반, 광고 미디어와 타겟 최적화에 확신 없다”</td>\n",
       "      <td>CMO 위원회(CMO Council)의 최신 보고서에 따르면 마케터 3명 중 2명은...</td>\n",
       "      <td>2023.01.13</td>\n",
       "    </tr>\n",
       "    <tr>\n",
       "      <th>2</th>\n",
       "      <td>글로벌 칼럼 | 경제 역풍이 2023년 사이버보안 업계에 미칠 영향</td>\n",
       "      <td>최근 ESG(Enterprise Strategy Group)는 2023년의 사이버보...</td>\n",
       "      <td>2023.01.13</td>\n",
       "    </tr>\n",
       "    <tr>\n",
       "      <th>3</th>\n",
       "      <td>글로벌 칼럼 | 마침내, OLED 모니터의 해가 왔다</td>\n",
       "      <td>PC 마니아와 게이머들이 몇 년 동안 애타게 기다려온 OLED 모니터의 대중화가 2...</td>\n",
       "      <td>2023.01.13</td>\n",
       "    </tr>\n",
       "    <tr>\n",
       "      <th>5</th>\n",
       "      <td>“성별 다양성이 곧 기업 경쟁력” 여성의 IT 진출 지원하는 단체 3곳</td>\n",
       "      <td>2020년 맥킨지가 발간한 ‘다양성이 경쟁력이다(Diversity wins)’ 보고...</td>\n",
       "      <td>2023.01.16</td>\n",
       "    </tr>\n",
       "  </tbody>\n",
       "</table>\n",
       "</div>"
      ],
      "text/plain": [
       "                                        제목  \\\n",
       "0       “미래형 자동차의 향연” CES 2023 자동차 전시 이모저모   \n",
       "1          “마케터 절반, 광고 미디어와 타겟 최적화에 확신 없다”   \n",
       "2    글로벌 칼럼 | 경제 역풍이 2023년 사이버보안 업계에 미칠 영향   \n",
       "3            글로벌 칼럼 | 마침내, OLED 모니터의 해가 왔다   \n",
       "5  “성별 다양성이 곧 기업 경쟁력” 여성의 IT 진출 지원하는 단체 3곳   \n",
       "\n",
       "                                                  내용         작성일  \n",
       "0  가전전시회로 시작한 CES가 점점 더 대형 자동차 전시회로 변모하고 있다. 디지털화...  2023.01.12  \n",
       "1  CMO 위원회(CMO Council)의 최신 보고서에 따르면 마케터 3명 중 2명은...  2023.01.13  \n",
       "2  최근 ESG(Enterprise Strategy Group)는 2023년의 사이버보...  2023.01.13  \n",
       "3  PC 마니아와 게이머들이 몇 년 동안 애타게 기다려온 OLED 모니터의 대중화가 2...  2023.01.13  \n",
       "5  2020년 맥킨지가 발간한 ‘다양성이 경쟁력이다(Diversity wins)’ 보고...  2023.01.16  "
      ]
     },
     "execution_count": 14,
     "metadata": {},
     "output_type": "execute_result"
    }
   ],
   "source": [
    "test.head(5)"
   ]
  },
  {
   "cell_type": "code",
   "execution_count": 9,
   "id": "8275d46c-04ae-4f15-80c2-813dcf4cdf16",
   "metadata": {
    "tags": []
   },
   "outputs": [],
   "source": [
    "# 새로운 CSV 파일 경로 및 이름\n",
    "test_file = 'data/test_data.csv'\n",
    "\n",
    "# 데이터프레임을 새로운 CSV 파일로 저장\n",
    "test.to_csv(test_file, index=False)"
   ]
  },
  {
   "cell_type": "code",
   "execution_count": null,
   "id": "7a759288-9818-4cba-90d0-b3ddd04dff12",
   "metadata": {},
   "outputs": [],
   "source": []
  }
 ],
 "metadata": {
  "kernelspec": {
   "display_name": "m1_venv",
   "language": "python",
   "name": "m1_venv"
  },
  "language_info": {
   "codemirror_mode": {
    "name": "ipython",
    "version": 3
   },
   "file_extension": ".py",
   "mimetype": "text/x-python",
   "name": "python",
   "nbconvert_exporter": "python",
   "pygments_lexer": "ipython3",
   "version": "3.9.13"
  }
 },
 "nbformat": 4,
 "nbformat_minor": 5
}
