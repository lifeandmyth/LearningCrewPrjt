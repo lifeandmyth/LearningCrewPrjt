{
 "cells": [
  {
   "cell_type": "code",
   "execution_count": 22,
   "id": "a80a104d-0f71-42c1-87ee-c059afee4d1d",
   "metadata": {
    "tags": []
   },
   "outputs": [
    {
     "name": "stdout",
     "output_type": "stream",
     "text": [
      "['Malgun Gothic']\n"
     ]
    }
   ],
   "source": [
    "# warning 무시\n",
    "import warnings\n",
    "warnings.filterwarnings('ignore')\n",
    "\n",
    "import matplotlib.pylab as plt\n",
    "# '-' 깨짐 해결 모듈\n",
    "import matplotlib as mpl\n",
    "\n",
    "plt.rcParams[\"font.family\"] = \"Malgun Gothic\"  # For Windows\n",
    "plt.rcParams[\"font.size\"] = 12\n",
    "plt.rcParams[\"figure.figsize\"] = (8,4)\n",
    "print(plt.rcParams[\"font.family\"])\n",
    "\n",
    "# 마이너스 깨짐 해결\n",
    "mpl.rcParams[\"axes.unicode_minus\"] = False\n",
    "\n",
    "from sklearn.datasets import load_breast_cancer\n",
    "from sklearn.model_selection import train_test_split\n",
    "from sklearn.datasets import load_iris\n",
    "from sklearn.tree import DecisionTreeClassifier\n",
    "from sklearn.preprocessing import LabelEncoder\n",
    "from sklearn.metrics import classification_report\n",
    "from sklearn.tree import plot_tree\n",
    "from sklearn.linear_model import LinearRegression\n",
    "from sklearn.model_selection import train_test_split\n",
    "from sklearn.metrics import mean_squared_error\n",
    "from sklearn.metrics import accuracy_score\n",
    "from sklearn.ensemble import RandomForestClassifier\n",
    "from sklearn.preprocessing import OneHotEncoder\n",
    "from bs4 import BeautifulSoup\n",
    "from xgboost import XGBRegressor\n",
    "from sklearn.metrics import r2_score\n",
    "\n",
    "from konlpy.tag import Okt\n",
    "\n",
    "import numpy as np\n",
    "import pandas as pd\n",
    "import pandas as pd\n",
    "import requests\n",
    "import datetime\n",
    "import matplotlib.pyplot as plt\n",
    "import seaborn as sns"
   ]
  },
  {
   "cell_type": "code",
   "execution_count": 5,
   "id": "f51106b4-4626-4e5c-9c57-345176608bc0",
   "metadata": {
    "tags": []
   },
   "outputs": [],
   "source": [
    "train = pd.read_csv('data/IT_WORLD_Cra1.csv')"
   ]
  },
  {
   "cell_type": "code",
   "execution_count": 6,
   "id": "0cfcd8a5-8757-4bc0-9873-2d1bc8e85168",
   "metadata": {},
   "outputs": [
    {
     "data": {
      "text/plain": [
       "LABEL-1    14\n",
       "주소          0\n",
       "제목          0\n",
       "내용          0\n",
       "태그1         4\n",
       "태그2        23\n",
       "태그3        74\n",
       "작성일         0\n",
       "dtype: int64"
      ]
     },
     "execution_count": 6,
     "metadata": {},
     "output_type": "execute_result"
    }
   ],
   "source": [
    "train.isnull().sum()"
   ]
  },
  {
   "cell_type": "code",
   "execution_count": 7,
   "id": "d26d8560-50a5-4243-a8ab-75e03a60f827",
   "metadata": {
    "tags": []
   },
   "outputs": [
    {
     "data": {
      "text/html": [
       "<div>\n",
       "<style scoped>\n",
       "    .dataframe tbody tr th:only-of-type {\n",
       "        vertical-align: middle;\n",
       "    }\n",
       "\n",
       "    .dataframe tbody tr th {\n",
       "        vertical-align: top;\n",
       "    }\n",
       "\n",
       "    .dataframe thead th {\n",
       "        text-align: right;\n",
       "    }\n",
       "</style>\n",
       "<table border=\"1\" class=\"dataframe\">\n",
       "  <thead>\n",
       "    <tr style=\"text-align: right;\">\n",
       "      <th></th>\n",
       "      <th>LABEL-1</th>\n",
       "      <th>주소</th>\n",
       "      <th>제목</th>\n",
       "      <th>내용</th>\n",
       "      <th>태그1</th>\n",
       "      <th>태그2</th>\n",
       "      <th>태그3</th>\n",
       "      <th>작성일</th>\n",
       "    </tr>\n",
       "  </thead>\n",
       "  <tbody>\n",
       "    <tr>\n",
       "      <th>0</th>\n",
       "      <td>https://www.itworld.co.kr/t/55049/%EA%B8%80%EB...</td>\n",
       "      <td>https://www.itworld.co.kr/files/itworld/ITW_20...</td>\n",
       "      <td>“미래형 자동차의 향연” CES 2023 자동차 전시 이모저모</td>\n",
       "      <td>가전전시회로 시작한 CES가 점점 더 대형 자동차 전시회로 변모하고 있다. 디지털화...</td>\n",
       "      <td>CES</td>\n",
       "      <td>전기차</td>\n",
       "      <td>전시회</td>\n",
       "      <td>2023.01.12</td>\n",
       "    </tr>\n",
       "    <tr>\n",
       "      <th>1</th>\n",
       "      <td>https://www.itworld.co.kr/t/55049/%EA%B8%80%EB...</td>\n",
       "      <td>https://www.itworld.co.kr/files/ciokr/2023/01/...</td>\n",
       "      <td>“마케터 절반, 광고 미디어와 타겟 최적화에 확신 없다”</td>\n",
       "      <td>CMO 위원회(CMO Council)의 최신 보고서에 따르면 마케터 3명 중 2명은...</td>\n",
       "      <td>CMO 위원회</td>\n",
       "      <td>최적화</td>\n",
       "      <td>고객 확보</td>\n",
       "      <td>2023.01.13</td>\n",
       "    </tr>\n",
       "    <tr>\n",
       "      <th>2</th>\n",
       "      <td>https://www.itworld.co.kr/t/55049/%EA%B8%80%EB...</td>\n",
       "      <td>https://www.itworld.co.kr/files/itworld/ITW_20...</td>\n",
       "      <td>글로벌 칼럼 | 경제 역풍이 2023년 사이버보안 업계에 미칠 영향</td>\n",
       "      <td>최근 ESG(Enterprise Strategy Group)는 2023년의 사이버보...</td>\n",
       "      <td>보안</td>\n",
       "      <td>2023년전망</td>\n",
       "      <td>보안예산</td>\n",
       "      <td>2023.01.13</td>\n",
       "    </tr>\n",
       "    <tr>\n",
       "      <th>3</th>\n",
       "      <td>https://www.itworld.co.kr/t/55049/%EA%B8%80%EB...</td>\n",
       "      <td>https://www.itworld.co.kr/files/itworld/ITW_20...</td>\n",
       "      <td>글로벌 칼럼 | 마침내, OLED 모니터의 해가 왔다</td>\n",
       "      <td>PC 마니아와 게이머들이 몇 년 동안 애타게 기다려온 OLED 모니터의 대중화가 2...</td>\n",
       "      <td>OLED</td>\n",
       "      <td>모니터</td>\n",
       "      <td>PC모니터</td>\n",
       "      <td>2023.01.13</td>\n",
       "    </tr>\n",
       "    <tr>\n",
       "      <th>4</th>\n",
       "      <td>https://www.itworld.co.kr/t/55049/%EA%B8%80%EB...</td>\n",
       "      <td>https://www.itworld.co.kr/files/itworld/ITW_20...</td>\n",
       "      <td>알파벳 자회사 잇단 구조조정 \"실적 압박과 자원재배치\"로 15~20% 감원</td>\n",
       "      <td>알파벳의 기타 부서 감원 계획에 자회사인 인트린직 AI(Intrinsic AI) 인...</td>\n",
       "      <td>정리해고</td>\n",
       "      <td>감원</td>\n",
       "      <td>NaN</td>\n",
       "      <td>2023.01.16</td>\n",
       "    </tr>\n",
       "  </tbody>\n",
       "</table>\n",
       "</div>"
      ],
      "text/plain": [
       "                                             LABEL-1  \\\n",
       "0  https://www.itworld.co.kr/t/55049/%EA%B8%80%EB...   \n",
       "1  https://www.itworld.co.kr/t/55049/%EA%B8%80%EB...   \n",
       "2  https://www.itworld.co.kr/t/55049/%EA%B8%80%EB...   \n",
       "3  https://www.itworld.co.kr/t/55049/%EA%B8%80%EB...   \n",
       "4  https://www.itworld.co.kr/t/55049/%EA%B8%80%EB...   \n",
       "\n",
       "                                                  주소  \\\n",
       "0  https://www.itworld.co.kr/files/itworld/ITW_20...   \n",
       "1  https://www.itworld.co.kr/files/ciokr/2023/01/...   \n",
       "2  https://www.itworld.co.kr/files/itworld/ITW_20...   \n",
       "3  https://www.itworld.co.kr/files/itworld/ITW_20...   \n",
       "4  https://www.itworld.co.kr/files/itworld/ITW_20...   \n",
       "\n",
       "                                          제목  \\\n",
       "0         “미래형 자동차의 향연” CES 2023 자동차 전시 이모저모   \n",
       "1            “마케터 절반, 광고 미디어와 타겟 최적화에 확신 없다”   \n",
       "2      글로벌 칼럼 | 경제 역풍이 2023년 사이버보안 업계에 미칠 영향   \n",
       "3              글로벌 칼럼 | 마침내, OLED 모니터의 해가 왔다   \n",
       "4  알파벳 자회사 잇단 구조조정 \"실적 압박과 자원재배치\"로 15~20% 감원   \n",
       "\n",
       "                                                  내용      태그1      태그2    태그3  \\\n",
       "0  가전전시회로 시작한 CES가 점점 더 대형 자동차 전시회로 변모하고 있다. 디지털화...      CES      전기차    전시회   \n",
       "1  CMO 위원회(CMO Council)의 최신 보고서에 따르면 마케터 3명 중 2명은...  CMO 위원회      최적화  고객 확보   \n",
       "2  최근 ESG(Enterprise Strategy Group)는 2023년의 사이버보...       보안  2023년전망   보안예산   \n",
       "3  PC 마니아와 게이머들이 몇 년 동안 애타게 기다려온 OLED 모니터의 대중화가 2...     OLED      모니터  PC모니터   \n",
       "4  알파벳의 기타 부서 감원 계획에 자회사인 인트린직 AI(Intrinsic AI) 인...     정리해고       감원    NaN   \n",
       "\n",
       "          작성일  \n",
       "0  2023.01.12  \n",
       "1  2023.01.13  \n",
       "2  2023.01.13  \n",
       "3  2023.01.13  \n",
       "4  2023.01.16  "
      ]
     },
     "execution_count": 7,
     "metadata": {},
     "output_type": "execute_result"
    }
   ],
   "source": [
    "train.head(5)"
   ]
  },
  {
   "cell_type": "code",
   "execution_count": 8,
   "id": "4e5d18b3-dd4d-4b6b-b3d6-1a6fa13f1984",
   "metadata": {
    "tags": []
   },
   "outputs": [],
   "source": [
    "# Null/NaN(결손) 데이터를 제거한다. \n",
    "train.dropna(inplace=True)"
   ]
  },
  {
   "cell_type": "code",
   "execution_count": 15,
   "id": "794cd33d-80d2-4f38-91f9-ec9edb3817c0",
   "metadata": {
    "tags": []
   },
   "outputs": [],
   "source": [
    "# LABEL-1 컬럼과 작성일 컬럼 삭제\n",
    "train.drop(['주소'], axis=1, inplace=True)"
   ]
  },
  {
   "cell_type": "code",
   "execution_count": 16,
   "id": "baf18ab5-ed2e-491b-bc87-6ad1b3dd9dca",
   "metadata": {
    "tags": []
   },
   "outputs": [
    {
     "data": {
      "text/html": [
       "<div>\n",
       "<style scoped>\n",
       "    .dataframe tbody tr th:only-of-type {\n",
       "        vertical-align: middle;\n",
       "    }\n",
       "\n",
       "    .dataframe tbody tr th {\n",
       "        vertical-align: top;\n",
       "    }\n",
       "\n",
       "    .dataframe thead th {\n",
       "        text-align: right;\n",
       "    }\n",
       "</style>\n",
       "<table border=\"1\" class=\"dataframe\">\n",
       "  <thead>\n",
       "    <tr style=\"text-align: right;\">\n",
       "      <th></th>\n",
       "      <th>제목</th>\n",
       "      <th>내용</th>\n",
       "      <th>태그1</th>\n",
       "      <th>태그2</th>\n",
       "      <th>태그3</th>\n",
       "    </tr>\n",
       "  </thead>\n",
       "  <tbody>\n",
       "    <tr>\n",
       "      <th>0</th>\n",
       "      <td>“미래형 자동차의 향연” CES 2023 자동차 전시 이모저모</td>\n",
       "      <td>가전전시회로 시작한 CES가 점점 더 대형 자동차 전시회로 변모하고 있다. 디지털화...</td>\n",
       "      <td>CES</td>\n",
       "      <td>전기차</td>\n",
       "      <td>전시회</td>\n",
       "    </tr>\n",
       "    <tr>\n",
       "      <th>1</th>\n",
       "      <td>“마케터 절반, 광고 미디어와 타겟 최적화에 확신 없다”</td>\n",
       "      <td>CMO 위원회(CMO Council)의 최신 보고서에 따르면 마케터 3명 중 2명은...</td>\n",
       "      <td>CMO 위원회</td>\n",
       "      <td>최적화</td>\n",
       "      <td>고객 확보</td>\n",
       "    </tr>\n",
       "    <tr>\n",
       "      <th>2</th>\n",
       "      <td>글로벌 칼럼 | 경제 역풍이 2023년 사이버보안 업계에 미칠 영향</td>\n",
       "      <td>최근 ESG(Enterprise Strategy Group)는 2023년의 사이버보...</td>\n",
       "      <td>보안</td>\n",
       "      <td>2023년전망</td>\n",
       "      <td>보안예산</td>\n",
       "    </tr>\n",
       "    <tr>\n",
       "      <th>3</th>\n",
       "      <td>글로벌 칼럼 | 마침내, OLED 모니터의 해가 왔다</td>\n",
       "      <td>PC 마니아와 게이머들이 몇 년 동안 애타게 기다려온 OLED 모니터의 대중화가 2...</td>\n",
       "      <td>OLED</td>\n",
       "      <td>모니터</td>\n",
       "      <td>PC모니터</td>\n",
       "    </tr>\n",
       "    <tr>\n",
       "      <th>5</th>\n",
       "      <td>“성별 다양성이 곧 기업 경쟁력” 여성의 IT 진출 지원하는 단체 3곳</td>\n",
       "      <td>2020년 맥킨지가 발간한 ‘다양성이 경쟁력이다(Diversity wins)’ 보고...</td>\n",
       "      <td>DEI</td>\n",
       "      <td>다양성</td>\n",
       "      <td>인재다양성</td>\n",
       "    </tr>\n",
       "  </tbody>\n",
       "</table>\n",
       "</div>"
      ],
      "text/plain": [
       "                                        제목  \\\n",
       "0       “미래형 자동차의 향연” CES 2023 자동차 전시 이모저모   \n",
       "1          “마케터 절반, 광고 미디어와 타겟 최적화에 확신 없다”   \n",
       "2    글로벌 칼럼 | 경제 역풍이 2023년 사이버보안 업계에 미칠 영향   \n",
       "3            글로벌 칼럼 | 마침내, OLED 모니터의 해가 왔다   \n",
       "5  “성별 다양성이 곧 기업 경쟁력” 여성의 IT 진출 지원하는 단체 3곳   \n",
       "\n",
       "                                                  내용      태그1      태그2    태그3  \n",
       "0  가전전시회로 시작한 CES가 점점 더 대형 자동차 전시회로 변모하고 있다. 디지털화...      CES      전기차    전시회  \n",
       "1  CMO 위원회(CMO Council)의 최신 보고서에 따르면 마케터 3명 중 2명은...  CMO 위원회      최적화  고객 확보  \n",
       "2  최근 ESG(Enterprise Strategy Group)는 2023년의 사이버보...       보안  2023년전망   보안예산  \n",
       "3  PC 마니아와 게이머들이 몇 년 동안 애타게 기다려온 OLED 모니터의 대중화가 2...     OLED      모니터  PC모니터  \n",
       "5  2020년 맥킨지가 발간한 ‘다양성이 경쟁력이다(Diversity wins)’ 보고...      DEI      다양성  인재다양성  "
      ]
     },
     "execution_count": 16,
     "metadata": {},
     "output_type": "execute_result"
    }
   ],
   "source": [
    "train.head(5)"
   ]
  },
  {
   "cell_type": "code",
   "execution_count": 17,
   "id": "7a322af3-a6d5-4784-a02a-3b5512a06841",
   "metadata": {
    "tags": []
   },
   "outputs": [],
   "source": [
    "train.drop(['태그1','태그2','태그3'], axis=1, inplace=True)"
   ]
  },
  {
   "cell_type": "code",
   "execution_count": 18,
   "id": "54ba5be1-ad84-45e0-a08c-0131acb1df36",
   "metadata": {
    "tags": []
   },
   "outputs": [
    {
     "data": {
      "text/html": [
       "<div>\n",
       "<style scoped>\n",
       "    .dataframe tbody tr th:only-of-type {\n",
       "        vertical-align: middle;\n",
       "    }\n",
       "\n",
       "    .dataframe tbody tr th {\n",
       "        vertical-align: top;\n",
       "    }\n",
       "\n",
       "    .dataframe thead th {\n",
       "        text-align: right;\n",
       "    }\n",
       "</style>\n",
       "<table border=\"1\" class=\"dataframe\">\n",
       "  <thead>\n",
       "    <tr style=\"text-align: right;\">\n",
       "      <th></th>\n",
       "      <th>제목</th>\n",
       "      <th>내용</th>\n",
       "    </tr>\n",
       "  </thead>\n",
       "  <tbody>\n",
       "    <tr>\n",
       "      <th>0</th>\n",
       "      <td>“미래형 자동차의 향연” CES 2023 자동차 전시 이모저모</td>\n",
       "      <td>가전전시회로 시작한 CES가 점점 더 대형 자동차 전시회로 변모하고 있다. 디지털화...</td>\n",
       "    </tr>\n",
       "    <tr>\n",
       "      <th>1</th>\n",
       "      <td>“마케터 절반, 광고 미디어와 타겟 최적화에 확신 없다”</td>\n",
       "      <td>CMO 위원회(CMO Council)의 최신 보고서에 따르면 마케터 3명 중 2명은...</td>\n",
       "    </tr>\n",
       "    <tr>\n",
       "      <th>2</th>\n",
       "      <td>글로벌 칼럼 | 경제 역풍이 2023년 사이버보안 업계에 미칠 영향</td>\n",
       "      <td>최근 ESG(Enterprise Strategy Group)는 2023년의 사이버보...</td>\n",
       "    </tr>\n",
       "    <tr>\n",
       "      <th>3</th>\n",
       "      <td>글로벌 칼럼 | 마침내, OLED 모니터의 해가 왔다</td>\n",
       "      <td>PC 마니아와 게이머들이 몇 년 동안 애타게 기다려온 OLED 모니터의 대중화가 2...</td>\n",
       "    </tr>\n",
       "    <tr>\n",
       "      <th>5</th>\n",
       "      <td>“성별 다양성이 곧 기업 경쟁력” 여성의 IT 진출 지원하는 단체 3곳</td>\n",
       "      <td>2020년 맥킨지가 발간한 ‘다양성이 경쟁력이다(Diversity wins)’ 보고...</td>\n",
       "    </tr>\n",
       "  </tbody>\n",
       "</table>\n",
       "</div>"
      ],
      "text/plain": [
       "                                        제목  \\\n",
       "0       “미래형 자동차의 향연” CES 2023 자동차 전시 이모저모   \n",
       "1          “마케터 절반, 광고 미디어와 타겟 최적화에 확신 없다”   \n",
       "2    글로벌 칼럼 | 경제 역풍이 2023년 사이버보안 업계에 미칠 영향   \n",
       "3            글로벌 칼럼 | 마침내, OLED 모니터의 해가 왔다   \n",
       "5  “성별 다양성이 곧 기업 경쟁력” 여성의 IT 진출 지원하는 단체 3곳   \n",
       "\n",
       "                                                  내용  \n",
       "0  가전전시회로 시작한 CES가 점점 더 대형 자동차 전시회로 변모하고 있다. 디지털화...  \n",
       "1  CMO 위원회(CMO Council)의 최신 보고서에 따르면 마케터 3명 중 2명은...  \n",
       "2  최근 ESG(Enterprise Strategy Group)는 2023년의 사이버보...  \n",
       "3  PC 마니아와 게이머들이 몇 년 동안 애타게 기다려온 OLED 모니터의 대중화가 2...  \n",
       "5  2020년 맥킨지가 발간한 ‘다양성이 경쟁력이다(Diversity wins)’ 보고...  "
      ]
     },
     "execution_count": 18,
     "metadata": {},
     "output_type": "execute_result"
    }
   ],
   "source": [
    "train.head(5)"
   ]
  },
  {
   "cell_type": "code",
   "execution_count": 20,
   "id": "86997f2d-0988-4ac4-8166-5125a042487c",
   "metadata": {
    "tags": []
   },
   "outputs": [
    {
     "data": {
      "text/plain": [
       "<bound method NDFrame.head of                                           제목  \\\n",
       "0         “미래형 자동차의 향연” CES 2023 자동차 전시 이모저모   \n",
       "1            “마케터 절반, 광고 미디어와 타겟 최적화에 확신 없다”   \n",
       "2      글로벌 칼럼 | 경제 역풍이 2023년 사이버보안 업계에 미칠 영향   \n",
       "3              글로벌 칼럼 | 마침내, OLED 모니터의 해가 왔다   \n",
       "5    “성별 다양성이 곧 기업 경쟁력” 여성의 IT 진출 지원하는 단체 3곳   \n",
       "..                                       ...   \n",
       "123         디지털 생태계를 위험에 빠뜨리는 6가지 실수와 7가지 대책   \n",
       "124           UAO, 공개 실행 엔진으로 독점 제조 시스템에 도전장   \n",
       "129    “직원 유지율 90%” 기업이 전하는 ‘하이브리드 근무’ 운영팁 7   \n",
       "131         글로벌 칼럼 | IT 서베이 결과를 걸러 들어야 하는 이유   \n",
       "132                   글로벌 칼럼ㅣ애플에 돈 넣을 준비됐는가?   \n",
       "\n",
       "                                                    내용  \n",
       "0    가전전시회로 시작한 CES가 점점 더 대형 자동차 전시회로 변모하고 있다. 디지털화...  \n",
       "1    CMO 위원회(CMO Council)의 최신 보고서에 따르면 마케터 3명 중 2명은...  \n",
       "2    최근 ESG(Enterprise Strategy Group)는 2023년의 사이버보...  \n",
       "3    PC 마니아와 게이머들이 몇 년 동안 애타게 기다려온 OLED 모니터의 대중화가 2...  \n",
       "5    2020년 맥킨지가 발간한 ‘다양성이 경쟁력이다(Diversity wins)’ 보고...  \n",
       "..                                                 ...  \n",
       "123  기업은 새로운 디지털 생태계 구축에 참여하면 매출 상승과 생산성 향상에 도움이 될 ...  \n",
       "124  인더스트리 4.0이 시작된 지 10년이 지났음에도 불구하고 제조업의 디지털화는 크게...  \n",
       "129  많은 직원이 어쩔 수없이 사무실로 복귀하는 가운데, 미래 지향적인 기업들은 원격근무...  \n",
       "131  무언가를 탐색하는 중인가? 그렇다면 확실히 해야 한다. 진짜 증거를 필요로 하는 상...  \n",
       "132  2014년 애플 페이(Apple Pay)가 등장한 이후, 애플은 천천히, 하지만 확...  \n",
       "\n",
       "[98 rows x 2 columns]>"
      ]
     },
     "execution_count": 20,
     "metadata": {},
     "output_type": "execute_result"
    }
   ],
   "source": [
    "train.head"
   ]
  },
  {
   "cell_type": "code",
   "execution_count": 21,
   "id": "ee46bf8b-fdb4-4812-ae32-05b891ba5262",
   "metadata": {
    "tags": []
   },
   "outputs": [],
   "source": [
    "# 새로운 CSV 파일 경로 및 이름\n",
    "output_file = 'data/processed_data.csv'\n",
    "\n",
    "# 데이터프레임을 새로운 CSV 파일로 저장\n",
    "train.to_csv(output_file, index=False)"
   ]
  },
  {
   "cell_type": "code",
   "execution_count": 24,
   "id": "5c0f01ba-b915-4e61-b4aa-07794dc7d1e1",
   "metadata": {
    "tags": []
   },
   "outputs": [],
   "source": [
    "if __name__ =='__main__':\n",
    "    t_file_name = open('data/processed_data.csv','r',encoding='utf-8')\n",
    "    \n",
    "    title_list = []\n",
    "    for line in t_file_name.readlines():\n",
    "        title_list.append(line[:-1])\n",
    "    t_file_name.close()"
   ]
  },
  {
   "cell_type": "code",
   "execution_count": null,
   "id": "62e5b0ef-d895-431a-9171-33acf7a8dcd0",
   "metadata": {},
   "outputs": [],
   "source": []
  }
 ],
 "metadata": {
  "kernelspec": {
   "display_name": "m1_venv",
   "language": "python",
   "name": "m1_venv"
  },
  "language_info": {
   "codemirror_mode": {
    "name": "ipython",
    "version": 3
   },
   "file_extension": ".py",
   "mimetype": "text/x-python",
   "name": "python",
   "nbconvert_exporter": "python",
   "pygments_lexer": "ipython3",
   "version": "3.9.13"
  }
 },
 "nbformat": 4,
 "nbformat_minor": 5
}
